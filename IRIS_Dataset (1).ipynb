{
  "nbformat": 4,
  "nbformat_minor": 0,
  "metadata": {
    "kernelspec": {
      "display_name": "Python 3",
      "language": "python",
      "name": "python3"
    },
    "language_info": {
      "codemirror_mode": {
        "name": "ipython",
        "version": 3
      },
      "file_extension": ".py",
      "mimetype": "text/x-python",
      "name": "python",
      "nbconvert_exporter": "python",
      "pygments_lexer": "ipython3",
      "version": "3.6.9"
    },
    "colab": {
      "name": "IRIS_Dataset.ipynb",
      "provenance": [],
      "collapsed_sections": []
    }
  },
  "cells": [
    {
      "cell_type": "markdown",
      "metadata": {
        "id": "8FPoydbd3LVn"
      },
      "source": [
        "IMPORTING LIBRARIES"
      ]
    },
    {
      "cell_type": "code",
      "metadata": {
        "id": "tpNSO9HiaAlN",
        "colab": {
          "base_uri": "https://localhost:8080/"
        },
        "outputId": "3b9688e3-9161-4c66-e087-8cd222e484bb"
      },
      "source": [
        "!pip install tensorflow\n",
        "!pip install pandas"
      ],
      "execution_count": 2,
      "outputs": [
        {
          "output_type": "stream",
          "text": [
            "Requirement already satisfied: tensorflow in /usr/local/lib/python3.6/dist-packages (2.4.1)\n",
            "Requirement already satisfied: six~=1.15.0 in /usr/local/lib/python3.6/dist-packages (from tensorflow) (1.15.0)\n",
            "Requirement already satisfied: grpcio~=1.32.0 in /usr/local/lib/python3.6/dist-packages (from tensorflow) (1.32.0)\n",
            "Requirement already satisfied: h5py~=2.10.0 in /usr/local/lib/python3.6/dist-packages (from tensorflow) (2.10.0)\n",
            "Requirement already satisfied: google-pasta~=0.2 in /usr/local/lib/python3.6/dist-packages (from tensorflow) (0.2.0)\n",
            "Requirement already satisfied: tensorflow-estimator<2.5.0,>=2.4.0 in /usr/local/lib/python3.6/dist-packages (from tensorflow) (2.4.0)\n",
            "Requirement already satisfied: absl-py~=0.10 in /usr/local/lib/python3.6/dist-packages (from tensorflow) (0.10.0)\n",
            "Requirement already satisfied: wrapt~=1.12.1 in /usr/local/lib/python3.6/dist-packages (from tensorflow) (1.12.1)\n",
            "Requirement already satisfied: gast==0.3.3 in /usr/local/lib/python3.6/dist-packages (from tensorflow) (0.3.3)\n",
            "Requirement already satisfied: protobuf>=3.9.2 in /usr/local/lib/python3.6/dist-packages (from tensorflow) (3.12.4)\n",
            "Requirement already satisfied: termcolor~=1.1.0 in /usr/local/lib/python3.6/dist-packages (from tensorflow) (1.1.0)\n",
            "Requirement already satisfied: typing-extensions~=3.7.4 in /usr/local/lib/python3.6/dist-packages (from tensorflow) (3.7.4.3)\n",
            "Requirement already satisfied: tensorboard~=2.4 in /usr/local/lib/python3.6/dist-packages (from tensorflow) (2.4.1)\n",
            "Requirement already satisfied: flatbuffers~=1.12.0 in /usr/local/lib/python3.6/dist-packages (from tensorflow) (1.12)\n",
            "Requirement already satisfied: astunparse~=1.6.3 in /usr/local/lib/python3.6/dist-packages (from tensorflow) (1.6.3)\n",
            "Requirement already satisfied: numpy~=1.19.2 in /usr/local/lib/python3.6/dist-packages (from tensorflow) (1.19.5)\n",
            "Requirement already satisfied: keras-preprocessing~=1.1.2 in /usr/local/lib/python3.6/dist-packages (from tensorflow) (1.1.2)\n",
            "Requirement already satisfied: wheel~=0.35 in /usr/local/lib/python3.6/dist-packages (from tensorflow) (0.36.2)\n",
            "Requirement already satisfied: opt-einsum~=3.3.0 in /usr/local/lib/python3.6/dist-packages (from tensorflow) (3.3.0)\n",
            "Requirement already satisfied: setuptools in /usr/local/lib/python3.6/dist-packages (from protobuf>=3.9.2->tensorflow) (51.3.3)\n",
            "Requirement already satisfied: google-auth<2,>=1.6.3 in /usr/local/lib/python3.6/dist-packages (from tensorboard~=2.4->tensorflow) (1.17.2)\n",
            "Requirement already satisfied: requests<3,>=2.21.0 in /usr/local/lib/python3.6/dist-packages (from tensorboard~=2.4->tensorflow) (2.23.0)\n",
            "Requirement already satisfied: werkzeug>=0.11.15 in /usr/local/lib/python3.6/dist-packages (from tensorboard~=2.4->tensorflow) (1.0.1)\n",
            "Requirement already satisfied: markdown>=2.6.8 in /usr/local/lib/python3.6/dist-packages (from tensorboard~=2.4->tensorflow) (3.3.3)\n",
            "Requirement already satisfied: tensorboard-plugin-wit>=1.6.0 in /usr/local/lib/python3.6/dist-packages (from tensorboard~=2.4->tensorflow) (1.8.0)\n",
            "Requirement already satisfied: google-auth-oauthlib<0.5,>=0.4.1 in /usr/local/lib/python3.6/dist-packages (from tensorboard~=2.4->tensorflow) (0.4.2)\n",
            "Requirement already satisfied: rsa<5,>=3.1.4; python_version >= \"3\" in /usr/local/lib/python3.6/dist-packages (from google-auth<2,>=1.6.3->tensorboard~=2.4->tensorflow) (4.7)\n",
            "Requirement already satisfied: cachetools<5.0,>=2.0.0 in /usr/local/lib/python3.6/dist-packages (from google-auth<2,>=1.6.3->tensorboard~=2.4->tensorflow) (4.2.1)\n",
            "Requirement already satisfied: pyasn1-modules>=0.2.1 in /usr/local/lib/python3.6/dist-packages (from google-auth<2,>=1.6.3->tensorboard~=2.4->tensorflow) (0.2.8)\n",
            "Requirement already satisfied: certifi>=2017.4.17 in /usr/local/lib/python3.6/dist-packages (from requests<3,>=2.21.0->tensorboard~=2.4->tensorflow) (2020.12.5)\n",
            "Requirement already satisfied: urllib3!=1.25.0,!=1.25.1,<1.26,>=1.21.1 in /usr/local/lib/python3.6/dist-packages (from requests<3,>=2.21.0->tensorboard~=2.4->tensorflow) (1.24.3)\n",
            "Requirement already satisfied: chardet<4,>=3.0.2 in /usr/local/lib/python3.6/dist-packages (from requests<3,>=2.21.0->tensorboard~=2.4->tensorflow) (3.0.4)\n",
            "Requirement already satisfied: idna<3,>=2.5 in /usr/local/lib/python3.6/dist-packages (from requests<3,>=2.21.0->tensorboard~=2.4->tensorflow) (2.10)\n",
            "Requirement already satisfied: importlib-metadata; python_version < \"3.8\" in /usr/local/lib/python3.6/dist-packages (from markdown>=2.6.8->tensorboard~=2.4->tensorflow) (3.4.0)\n",
            "Requirement already satisfied: requests-oauthlib>=0.7.0 in /usr/local/lib/python3.6/dist-packages (from google-auth-oauthlib<0.5,>=0.4.1->tensorboard~=2.4->tensorflow) (1.3.0)\n",
            "Requirement already satisfied: pyasn1>=0.1.3 in /usr/local/lib/python3.6/dist-packages (from rsa<5,>=3.1.4; python_version >= \"3\"->google-auth<2,>=1.6.3->tensorboard~=2.4->tensorflow) (0.4.8)\n",
            "Requirement already satisfied: zipp>=0.5 in /usr/local/lib/python3.6/dist-packages (from importlib-metadata; python_version < \"3.8\"->markdown>=2.6.8->tensorboard~=2.4->tensorflow) (3.4.0)\n",
            "Requirement already satisfied: oauthlib>=3.0.0 in /usr/local/lib/python3.6/dist-packages (from requests-oauthlib>=0.7.0->google-auth-oauthlib<0.5,>=0.4.1->tensorboard~=2.4->tensorflow) (3.1.0)\n",
            "Requirement already satisfied: pandas in /usr/local/lib/python3.6/dist-packages (1.1.5)\n",
            "Requirement already satisfied: python-dateutil>=2.7.3 in /usr/local/lib/python3.6/dist-packages (from pandas) (2.8.1)\n",
            "Requirement already satisfied: numpy>=1.15.4 in /usr/local/lib/python3.6/dist-packages (from pandas) (1.19.5)\n",
            "Requirement already satisfied: pytz>=2017.2 in /usr/local/lib/python3.6/dist-packages (from pandas) (2018.9)\n",
            "Requirement already satisfied: six>=1.5 in /usr/local/lib/python3.6/dist-packages (from python-dateutil>=2.7.3->pandas) (1.15.0)\n"
          ],
          "name": "stdout"
        }
      ]
    },
    {
      "cell_type": "code",
      "metadata": {
        "id": "TvCDlSEZZ86d"
      },
      "source": [
        "%matplotlib inline \n",
        "import tensorflow as tf\n",
        "from tensorflow.keras.utils import to_categorical # Function to convert labels to one-hot encoding\n",
        "import pandas as pd  \n",
        "import numpy as np \n",
        "import matplotlib.pyplot as plt \n",
        "\n",
        "from sklearn.datasets import load_iris  # Function for loading the Iris dataset\n",
        "from sklearn.model_selection import train_test_split # Function for splitting the dataset"
      ],
      "execution_count": 64,
      "outputs": []
    },
    {
      "cell_type": "markdown",
      "metadata": {
        "id": "43CAmb0AZ86d"
      },
      "source": [
        "# Data exploration"
      ]
    },
    {
      "cell_type": "code",
      "metadata": {
        "id": "32CeQi7UZ86e"
      },
      "source": [
        "# Load the dataset and return to the defined variable \n",
        "dataset = load_iris()"
      ],
      "execution_count": 65,
      "outputs": []
    },
    {
      "cell_type": "code",
      "metadata": {
        "colab": {
          "base_uri": "https://localhost:8080/"
        },
        "id": "2Bw_vBZqZ86e",
        "outputId": "8027f345-39b5-43df-f8be-c47ce4f67abf"
      },
      "source": [
        "print(dataset)"
      ],
      "execution_count": 66,
      "outputs": [
        {
          "output_type": "stream",
          "text": [
            "{'data': array([[5.1, 3.5, 1.4, 0.2],\n",
            "       [4.9, 3. , 1.4, 0.2],\n",
            "       [4.7, 3.2, 1.3, 0.2],\n",
            "       [4.6, 3.1, 1.5, 0.2],\n",
            "       [5. , 3.6, 1.4, 0.2],\n",
            "       [5.4, 3.9, 1.7, 0.4],\n",
            "       [4.6, 3.4, 1.4, 0.3],\n",
            "       [5. , 3.4, 1.5, 0.2],\n",
            "       [4.4, 2.9, 1.4, 0.2],\n",
            "       [4.9, 3.1, 1.5, 0.1],\n",
            "       [5.4, 3.7, 1.5, 0.2],\n",
            "       [4.8, 3.4, 1.6, 0.2],\n",
            "       [4.8, 3. , 1.4, 0.1],\n",
            "       [4.3, 3. , 1.1, 0.1],\n",
            "       [5.8, 4. , 1.2, 0.2],\n",
            "       [5.7, 4.4, 1.5, 0.4],\n",
            "       [5.4, 3.9, 1.3, 0.4],\n",
            "       [5.1, 3.5, 1.4, 0.3],\n",
            "       [5.7, 3.8, 1.7, 0.3],\n",
            "       [5.1, 3.8, 1.5, 0.3],\n",
            "       [5.4, 3.4, 1.7, 0.2],\n",
            "       [5.1, 3.7, 1.5, 0.4],\n",
            "       [4.6, 3.6, 1. , 0.2],\n",
            "       [5.1, 3.3, 1.7, 0.5],\n",
            "       [4.8, 3.4, 1.9, 0.2],\n",
            "       [5. , 3. , 1.6, 0.2],\n",
            "       [5. , 3.4, 1.6, 0.4],\n",
            "       [5.2, 3.5, 1.5, 0.2],\n",
            "       [5.2, 3.4, 1.4, 0.2],\n",
            "       [4.7, 3.2, 1.6, 0.2],\n",
            "       [4.8, 3.1, 1.6, 0.2],\n",
            "       [5.4, 3.4, 1.5, 0.4],\n",
            "       [5.2, 4.1, 1.5, 0.1],\n",
            "       [5.5, 4.2, 1.4, 0.2],\n",
            "       [4.9, 3.1, 1.5, 0.2],\n",
            "       [5. , 3.2, 1.2, 0.2],\n",
            "       [5.5, 3.5, 1.3, 0.2],\n",
            "       [4.9, 3.6, 1.4, 0.1],\n",
            "       [4.4, 3. , 1.3, 0.2],\n",
            "       [5.1, 3.4, 1.5, 0.2],\n",
            "       [5. , 3.5, 1.3, 0.3],\n",
            "       [4.5, 2.3, 1.3, 0.3],\n",
            "       [4.4, 3.2, 1.3, 0.2],\n",
            "       [5. , 3.5, 1.6, 0.6],\n",
            "       [5.1, 3.8, 1.9, 0.4],\n",
            "       [4.8, 3. , 1.4, 0.3],\n",
            "       [5.1, 3.8, 1.6, 0.2],\n",
            "       [4.6, 3.2, 1.4, 0.2],\n",
            "       [5.3, 3.7, 1.5, 0.2],\n",
            "       [5. , 3.3, 1.4, 0.2],\n",
            "       [7. , 3.2, 4.7, 1.4],\n",
            "       [6.4, 3.2, 4.5, 1.5],\n",
            "       [6.9, 3.1, 4.9, 1.5],\n",
            "       [5.5, 2.3, 4. , 1.3],\n",
            "       [6.5, 2.8, 4.6, 1.5],\n",
            "       [5.7, 2.8, 4.5, 1.3],\n",
            "       [6.3, 3.3, 4.7, 1.6],\n",
            "       [4.9, 2.4, 3.3, 1. ],\n",
            "       [6.6, 2.9, 4.6, 1.3],\n",
            "       [5.2, 2.7, 3.9, 1.4],\n",
            "       [5. , 2. , 3.5, 1. ],\n",
            "       [5.9, 3. , 4.2, 1.5],\n",
            "       [6. , 2.2, 4. , 1. ],\n",
            "       [6.1, 2.9, 4.7, 1.4],\n",
            "       [5.6, 2.9, 3.6, 1.3],\n",
            "       [6.7, 3.1, 4.4, 1.4],\n",
            "       [5.6, 3. , 4.5, 1.5],\n",
            "       [5.8, 2.7, 4.1, 1. ],\n",
            "       [6.2, 2.2, 4.5, 1.5],\n",
            "       [5.6, 2.5, 3.9, 1.1],\n",
            "       [5.9, 3.2, 4.8, 1.8],\n",
            "       [6.1, 2.8, 4. , 1.3],\n",
            "       [6.3, 2.5, 4.9, 1.5],\n",
            "       [6.1, 2.8, 4.7, 1.2],\n",
            "       [6.4, 2.9, 4.3, 1.3],\n",
            "       [6.6, 3. , 4.4, 1.4],\n",
            "       [6.8, 2.8, 4.8, 1.4],\n",
            "       [6.7, 3. , 5. , 1.7],\n",
            "       [6. , 2.9, 4.5, 1.5],\n",
            "       [5.7, 2.6, 3.5, 1. ],\n",
            "       [5.5, 2.4, 3.8, 1.1],\n",
            "       [5.5, 2.4, 3.7, 1. ],\n",
            "       [5.8, 2.7, 3.9, 1.2],\n",
            "       [6. , 2.7, 5.1, 1.6],\n",
            "       [5.4, 3. , 4.5, 1.5],\n",
            "       [6. , 3.4, 4.5, 1.6],\n",
            "       [6.7, 3.1, 4.7, 1.5],\n",
            "       [6.3, 2.3, 4.4, 1.3],\n",
            "       [5.6, 3. , 4.1, 1.3],\n",
            "       [5.5, 2.5, 4. , 1.3],\n",
            "       [5.5, 2.6, 4.4, 1.2],\n",
            "       [6.1, 3. , 4.6, 1.4],\n",
            "       [5.8, 2.6, 4. , 1.2],\n",
            "       [5. , 2.3, 3.3, 1. ],\n",
            "       [5.6, 2.7, 4.2, 1.3],\n",
            "       [5.7, 3. , 4.2, 1.2],\n",
            "       [5.7, 2.9, 4.2, 1.3],\n",
            "       [6.2, 2.9, 4.3, 1.3],\n",
            "       [5.1, 2.5, 3. , 1.1],\n",
            "       [5.7, 2.8, 4.1, 1.3],\n",
            "       [6.3, 3.3, 6. , 2.5],\n",
            "       [5.8, 2.7, 5.1, 1.9],\n",
            "       [7.1, 3. , 5.9, 2.1],\n",
            "       [6.3, 2.9, 5.6, 1.8],\n",
            "       [6.5, 3. , 5.8, 2.2],\n",
            "       [7.6, 3. , 6.6, 2.1],\n",
            "       [4.9, 2.5, 4.5, 1.7],\n",
            "       [7.3, 2.9, 6.3, 1.8],\n",
            "       [6.7, 2.5, 5.8, 1.8],\n",
            "       [7.2, 3.6, 6.1, 2.5],\n",
            "       [6.5, 3.2, 5.1, 2. ],\n",
            "       [6.4, 2.7, 5.3, 1.9],\n",
            "       [6.8, 3. , 5.5, 2.1],\n",
            "       [5.7, 2.5, 5. , 2. ],\n",
            "       [5.8, 2.8, 5.1, 2.4],\n",
            "       [6.4, 3.2, 5.3, 2.3],\n",
            "       [6.5, 3. , 5.5, 1.8],\n",
            "       [7.7, 3.8, 6.7, 2.2],\n",
            "       [7.7, 2.6, 6.9, 2.3],\n",
            "       [6. , 2.2, 5. , 1.5],\n",
            "       [6.9, 3.2, 5.7, 2.3],\n",
            "       [5.6, 2.8, 4.9, 2. ],\n",
            "       [7.7, 2.8, 6.7, 2. ],\n",
            "       [6.3, 2.7, 4.9, 1.8],\n",
            "       [6.7, 3.3, 5.7, 2.1],\n",
            "       [7.2, 3.2, 6. , 1.8],\n",
            "       [6.2, 2.8, 4.8, 1.8],\n",
            "       [6.1, 3. , 4.9, 1.8],\n",
            "       [6.4, 2.8, 5.6, 2.1],\n",
            "       [7.2, 3. , 5.8, 1.6],\n",
            "       [7.4, 2.8, 6.1, 1.9],\n",
            "       [7.9, 3.8, 6.4, 2. ],\n",
            "       [6.4, 2.8, 5.6, 2.2],\n",
            "       [6.3, 2.8, 5.1, 1.5],\n",
            "       [6.1, 2.6, 5.6, 1.4],\n",
            "       [7.7, 3. , 6.1, 2.3],\n",
            "       [6.3, 3.4, 5.6, 2.4],\n",
            "       [6.4, 3.1, 5.5, 1.8],\n",
            "       [6. , 3. , 4.8, 1.8],\n",
            "       [6.9, 3.1, 5.4, 2.1],\n",
            "       [6.7, 3.1, 5.6, 2.4],\n",
            "       [6.9, 3.1, 5.1, 2.3],\n",
            "       [5.8, 2.7, 5.1, 1.9],\n",
            "       [6.8, 3.2, 5.9, 2.3],\n",
            "       [6.7, 3.3, 5.7, 2.5],\n",
            "       [6.7, 3. , 5.2, 2.3],\n",
            "       [6.3, 2.5, 5. , 1.9],\n",
            "       [6.5, 3. , 5.2, 2. ],\n",
            "       [6.2, 3.4, 5.4, 2.3],\n",
            "       [5.9, 3. , 5.1, 1.8]]), 'target': array([0, 0, 0, 0, 0, 0, 0, 0, 0, 0, 0, 0, 0, 0, 0, 0, 0, 0, 0, 0, 0, 0,\n",
            "       0, 0, 0, 0, 0, 0, 0, 0, 0, 0, 0, 0, 0, 0, 0, 0, 0, 0, 0, 0, 0, 0,\n",
            "       0, 0, 0, 0, 0, 0, 1, 1, 1, 1, 1, 1, 1, 1, 1, 1, 1, 1, 1, 1, 1, 1,\n",
            "       1, 1, 1, 1, 1, 1, 1, 1, 1, 1, 1, 1, 1, 1, 1, 1, 1, 1, 1, 1, 1, 1,\n",
            "       1, 1, 1, 1, 1, 1, 1, 1, 1, 1, 1, 1, 2, 2, 2, 2, 2, 2, 2, 2, 2, 2,\n",
            "       2, 2, 2, 2, 2, 2, 2, 2, 2, 2, 2, 2, 2, 2, 2, 2, 2, 2, 2, 2, 2, 2,\n",
            "       2, 2, 2, 2, 2, 2, 2, 2, 2, 2, 2, 2, 2, 2, 2, 2, 2, 2]), 'target_names': array(['setosa', 'versicolor', 'virginica'], dtype='<U10'), 'DESCR': '.. _iris_dataset:\\n\\nIris plants dataset\\n--------------------\\n\\n**Data Set Characteristics:**\\n\\n    :Number of Instances: 150 (50 in each of three classes)\\n    :Number of Attributes: 4 numeric, predictive attributes and the class\\n    :Attribute Information:\\n        - sepal length in cm\\n        - sepal width in cm\\n        - petal length in cm\\n        - petal width in cm\\n        - class:\\n                - Iris-Setosa\\n                - Iris-Versicolour\\n                - Iris-Virginica\\n                \\n    :Summary Statistics:\\n\\n    ============== ==== ==== ======= ===== ====================\\n                    Min  Max   Mean    SD   Class Correlation\\n    ============== ==== ==== ======= ===== ====================\\n    sepal length:   4.3  7.9   5.84   0.83    0.7826\\n    sepal width:    2.0  4.4   3.05   0.43   -0.4194\\n    petal length:   1.0  6.9   3.76   1.76    0.9490  (high!)\\n    petal width:    0.1  2.5   1.20   0.76    0.9565  (high!)\\n    ============== ==== ==== ======= ===== ====================\\n\\n    :Missing Attribute Values: None\\n    :Class Distribution: 33.3% for each of 3 classes.\\n    :Creator: R.A. Fisher\\n    :Donor: Michael Marshall (MARSHALL%PLU@io.arc.nasa.gov)\\n    :Date: July, 1988\\n\\nThe famous Iris database, first used by Sir R.A. Fisher. The dataset is taken\\nfrom Fisher\\'s paper. Note that it\\'s the same as in R, but not as in the UCI\\nMachine Learning Repository, which has two wrong data points.\\n\\nThis is perhaps the best known database to be found in the\\npattern recognition literature.  Fisher\\'s paper is a classic in the field and\\nis referenced frequently to this day.  (See Duda & Hart, for example.)  The\\ndata set contains 3 classes of 50 instances each, where each class refers to a\\ntype of iris plant.  One class is linearly separable from the other 2; the\\nlatter are NOT linearly separable from each other.\\n\\n.. topic:: References\\n\\n   - Fisher, R.A. \"The use of multiple measurements in taxonomic problems\"\\n     Annual Eugenics, 7, Part II, 179-188 (1936); also in \"Contributions to\\n     Mathematical Statistics\" (John Wiley, NY, 1950).\\n   - Duda, R.O., & Hart, P.E. (1973) Pattern Classification and Scene Analysis.\\n     (Q327.D83) John Wiley & Sons.  ISBN 0-471-22361-1.  See page 218.\\n   - Dasarathy, B.V. (1980) \"Nosing Around the Neighborhood: A New System\\n     Structure and Classification Rule for Recognition in Partially Exposed\\n     Environments\".  IEEE Transactions on Pattern Analysis and Machine\\n     Intelligence, Vol. PAMI-2, No. 1, 67-71.\\n   - Gates, G.W. (1972) \"The Reduced Nearest Neighbor Rule\".  IEEE Transactions\\n     on Information Theory, May 1972, 431-433.\\n   - See also: 1988 MLC Proceedings, 54-64.  Cheeseman et al\"s AUTOCLASS II\\n     conceptual clustering system finds 3 classes in the data.\\n   - Many, many more ...', 'feature_names': ['sepal length (cm)', 'sepal width (cm)', 'petal length (cm)', 'petal width (cm)'], 'filename': '/usr/local/lib/python3.6/dist-packages/sklearn/datasets/data/iris.csv'}\n"
          ],
          "name": "stdout"
        }
      ]
    },
    {
      "cell_type": "markdown",
      "metadata": {
        "id": "HkI6pNUI76W8"
      },
      "source": [
        "Here we have a dictionary with key data and their corresponding values.\n",
        "\n",
        "We have the target keys and target values.\n",
        "\n",
        "In the above dataset we have three keys - data ,target , and target_names"
      ]
    },
    {
      "cell_type": "code",
      "metadata": {
        "id": "66Z9JcGvbS8u"
      },
      "source": [
        "To access values please type dictionaray and its keys\n",
        "To access the values of keys"
      ],
      "execution_count": null,
      "outputs": []
    },
    {
      "cell_type": "code",
      "metadata": {
        "colab": {
          "base_uri": "https://localhost:8080/"
        },
        "id": "lzwqY0FVbhxh",
        "outputId": "b8a1f1a2-c354-48bd-d421-aca8f4671677"
      },
      "source": [
        "print(dataset.data)"
      ],
      "execution_count": 6,
      "outputs": [
        {
          "output_type": "stream",
          "text": [
            "[[5.1 3.5 1.4 0.2]\n",
            " [4.9 3.  1.4 0.2]\n",
            " [4.7 3.2 1.3 0.2]\n",
            " [4.6 3.1 1.5 0.2]\n",
            " [5.  3.6 1.4 0.2]\n",
            " [5.4 3.9 1.7 0.4]\n",
            " [4.6 3.4 1.4 0.3]\n",
            " [5.  3.4 1.5 0.2]\n",
            " [4.4 2.9 1.4 0.2]\n",
            " [4.9 3.1 1.5 0.1]\n",
            " [5.4 3.7 1.5 0.2]\n",
            " [4.8 3.4 1.6 0.2]\n",
            " [4.8 3.  1.4 0.1]\n",
            " [4.3 3.  1.1 0.1]\n",
            " [5.8 4.  1.2 0.2]\n",
            " [5.7 4.4 1.5 0.4]\n",
            " [5.4 3.9 1.3 0.4]\n",
            " [5.1 3.5 1.4 0.3]\n",
            " [5.7 3.8 1.7 0.3]\n",
            " [5.1 3.8 1.5 0.3]\n",
            " [5.4 3.4 1.7 0.2]\n",
            " [5.1 3.7 1.5 0.4]\n",
            " [4.6 3.6 1.  0.2]\n",
            " [5.1 3.3 1.7 0.5]\n",
            " [4.8 3.4 1.9 0.2]\n",
            " [5.  3.  1.6 0.2]\n",
            " [5.  3.4 1.6 0.4]\n",
            " [5.2 3.5 1.5 0.2]\n",
            " [5.2 3.4 1.4 0.2]\n",
            " [4.7 3.2 1.6 0.2]\n",
            " [4.8 3.1 1.6 0.2]\n",
            " [5.4 3.4 1.5 0.4]\n",
            " [5.2 4.1 1.5 0.1]\n",
            " [5.5 4.2 1.4 0.2]\n",
            " [4.9 3.1 1.5 0.2]\n",
            " [5.  3.2 1.2 0.2]\n",
            " [5.5 3.5 1.3 0.2]\n",
            " [4.9 3.6 1.4 0.1]\n",
            " [4.4 3.  1.3 0.2]\n",
            " [5.1 3.4 1.5 0.2]\n",
            " [5.  3.5 1.3 0.3]\n",
            " [4.5 2.3 1.3 0.3]\n",
            " [4.4 3.2 1.3 0.2]\n",
            " [5.  3.5 1.6 0.6]\n",
            " [5.1 3.8 1.9 0.4]\n",
            " [4.8 3.  1.4 0.3]\n",
            " [5.1 3.8 1.6 0.2]\n",
            " [4.6 3.2 1.4 0.2]\n",
            " [5.3 3.7 1.5 0.2]\n",
            " [5.  3.3 1.4 0.2]\n",
            " [7.  3.2 4.7 1.4]\n",
            " [6.4 3.2 4.5 1.5]\n",
            " [6.9 3.1 4.9 1.5]\n",
            " [5.5 2.3 4.  1.3]\n",
            " [6.5 2.8 4.6 1.5]\n",
            " [5.7 2.8 4.5 1.3]\n",
            " [6.3 3.3 4.7 1.6]\n",
            " [4.9 2.4 3.3 1. ]\n",
            " [6.6 2.9 4.6 1.3]\n",
            " [5.2 2.7 3.9 1.4]\n",
            " [5.  2.  3.5 1. ]\n",
            " [5.9 3.  4.2 1.5]\n",
            " [6.  2.2 4.  1. ]\n",
            " [6.1 2.9 4.7 1.4]\n",
            " [5.6 2.9 3.6 1.3]\n",
            " [6.7 3.1 4.4 1.4]\n",
            " [5.6 3.  4.5 1.5]\n",
            " [5.8 2.7 4.1 1. ]\n",
            " [6.2 2.2 4.5 1.5]\n",
            " [5.6 2.5 3.9 1.1]\n",
            " [5.9 3.2 4.8 1.8]\n",
            " [6.1 2.8 4.  1.3]\n",
            " [6.3 2.5 4.9 1.5]\n",
            " [6.1 2.8 4.7 1.2]\n",
            " [6.4 2.9 4.3 1.3]\n",
            " [6.6 3.  4.4 1.4]\n",
            " [6.8 2.8 4.8 1.4]\n",
            " [6.7 3.  5.  1.7]\n",
            " [6.  2.9 4.5 1.5]\n",
            " [5.7 2.6 3.5 1. ]\n",
            " [5.5 2.4 3.8 1.1]\n",
            " [5.5 2.4 3.7 1. ]\n",
            " [5.8 2.7 3.9 1.2]\n",
            " [6.  2.7 5.1 1.6]\n",
            " [5.4 3.  4.5 1.5]\n",
            " [6.  3.4 4.5 1.6]\n",
            " [6.7 3.1 4.7 1.5]\n",
            " [6.3 2.3 4.4 1.3]\n",
            " [5.6 3.  4.1 1.3]\n",
            " [5.5 2.5 4.  1.3]\n",
            " [5.5 2.6 4.4 1.2]\n",
            " [6.1 3.  4.6 1.4]\n",
            " [5.8 2.6 4.  1.2]\n",
            " [5.  2.3 3.3 1. ]\n",
            " [5.6 2.7 4.2 1.3]\n",
            " [5.7 3.  4.2 1.2]\n",
            " [5.7 2.9 4.2 1.3]\n",
            " [6.2 2.9 4.3 1.3]\n",
            " [5.1 2.5 3.  1.1]\n",
            " [5.7 2.8 4.1 1.3]\n",
            " [6.3 3.3 6.  2.5]\n",
            " [5.8 2.7 5.1 1.9]\n",
            " [7.1 3.  5.9 2.1]\n",
            " [6.3 2.9 5.6 1.8]\n",
            " [6.5 3.  5.8 2.2]\n",
            " [7.6 3.  6.6 2.1]\n",
            " [4.9 2.5 4.5 1.7]\n",
            " [7.3 2.9 6.3 1.8]\n",
            " [6.7 2.5 5.8 1.8]\n",
            " [7.2 3.6 6.1 2.5]\n",
            " [6.5 3.2 5.1 2. ]\n",
            " [6.4 2.7 5.3 1.9]\n",
            " [6.8 3.  5.5 2.1]\n",
            " [5.7 2.5 5.  2. ]\n",
            " [5.8 2.8 5.1 2.4]\n",
            " [6.4 3.2 5.3 2.3]\n",
            " [6.5 3.  5.5 1.8]\n",
            " [7.7 3.8 6.7 2.2]\n",
            " [7.7 2.6 6.9 2.3]\n",
            " [6.  2.2 5.  1.5]\n",
            " [6.9 3.2 5.7 2.3]\n",
            " [5.6 2.8 4.9 2. ]\n",
            " [7.7 2.8 6.7 2. ]\n",
            " [6.3 2.7 4.9 1.8]\n",
            " [6.7 3.3 5.7 2.1]\n",
            " [7.2 3.2 6.  1.8]\n",
            " [6.2 2.8 4.8 1.8]\n",
            " [6.1 3.  4.9 1.8]\n",
            " [6.4 2.8 5.6 2.1]\n",
            " [7.2 3.  5.8 1.6]\n",
            " [7.4 2.8 6.1 1.9]\n",
            " [7.9 3.8 6.4 2. ]\n",
            " [6.4 2.8 5.6 2.2]\n",
            " [6.3 2.8 5.1 1.5]\n",
            " [6.1 2.6 5.6 1.4]\n",
            " [7.7 3.  6.1 2.3]\n",
            " [6.3 3.4 5.6 2.4]\n",
            " [6.4 3.1 5.5 1.8]\n",
            " [6.  3.  4.8 1.8]\n",
            " [6.9 3.1 5.4 2.1]\n",
            " [6.7 3.1 5.6 2.4]\n",
            " [6.9 3.1 5.1 2.3]\n",
            " [5.8 2.7 5.1 1.9]\n",
            " [6.8 3.2 5.9 2.3]\n",
            " [6.7 3.3 5.7 2.5]\n",
            " [6.7 3.  5.2 2.3]\n",
            " [6.3 2.5 5.  1.9]\n",
            " [6.5 3.  5.2 2. ]\n",
            " [6.2 3.4 5.4 2.3]\n",
            " [5.9 3.  5.1 1.8]]\n"
          ],
          "name": "stdout"
        }
      ]
    },
    {
      "cell_type": "code",
      "metadata": {
        "id": "h9NpsEVUcBNx"
      },
      "source": [
        "TO GET THE TARGET NAMES"
      ],
      "execution_count": null,
      "outputs": []
    },
    {
      "cell_type": "code",
      "metadata": {
        "colab": {
          "base_uri": "https://localhost:8080/"
        },
        "id": "2ULLH0vNcGkT",
        "outputId": "d4cca01e-de65-4c5d-f1a1-09f941123cfc"
      },
      "source": [
        "print(dataset.target_names)"
      ],
      "execution_count": 67,
      "outputs": [
        {
          "output_type": "stream",
          "text": [
            "['setosa' 'versicolor' 'virginica']\n"
          ],
          "name": "stdout"
        }
      ]
    },
    {
      "cell_type": "markdown",
      "metadata": {
        "id": "g9vH8kFVcWKK"
      },
      "source": [
        "We have three target names i.e. classes"
      ]
    },
    {
      "cell_type": "code",
      "metadata": {
        "colab": {
          "base_uri": "https://localhost:8080/"
        },
        "id": "kZT3EinOdAYO",
        "outputId": "13b72df2-bd42-4769-d420-d9fd9d3031e3"
      },
      "source": [
        "print(dataset.target)"
      ],
      "execution_count": 68,
      "outputs": [
        {
          "output_type": "stream",
          "text": [
            "[0 0 0 0 0 0 0 0 0 0 0 0 0 0 0 0 0 0 0 0 0 0 0 0 0 0 0 0 0 0 0 0 0 0 0 0 0\n",
            " 0 0 0 0 0 0 0 0 0 0 0 0 0 1 1 1 1 1 1 1 1 1 1 1 1 1 1 1 1 1 1 1 1 1 1 1 1\n",
            " 1 1 1 1 1 1 1 1 1 1 1 1 1 1 1 1 1 1 1 1 1 1 1 1 1 1 2 2 2 2 2 2 2 2 2 2 2\n",
            " 2 2 2 2 2 2 2 2 2 2 2 2 2 2 2 2 2 2 2 2 2 2 2 2 2 2 2 2 2 2 2 2 2 2 2 2 2\n",
            " 2 2]\n"
          ],
          "name": "stdout"
        }
      ]
    },
    {
      "cell_type": "markdown",
      "metadata": {
        "id": "ClQNKHoac7pW"
      },
      "source": [
        "WE HAVE THREE TARGET VALUES\n",
        "integer representation of predicted values"
      ]
    },
    {
      "cell_type": "code",
      "metadata": {
        "colab": {
          "base_uri": "https://localhost:8080/"
        },
        "id": "ddEG3B0i2aJU",
        "outputId": "2a2b1bf6-175d-46cf-ae4b-64ab35f062f2"
      },
      "source": [
        "# Load iris data into a DataFrame\n",
        "#print(dataset.data)\n",
        "#print(dataset.feature_names)\n",
        "# combine the above two and make a datframe\n",
        "dframe = pd.DataFrame(dataset.data, columns=dataset.feature_names)\n",
        "print(dframe)\n",
        "\n",
        "# datadrame is 2d data strcture\n",
        "# teh data is alligned in in tabular fashion in rows andc olumns"
      ],
      "execution_count": 69,
      "outputs": [
        {
          "output_type": "stream",
          "text": [
            "     sepal length (cm)  sepal width (cm)  petal length (cm)  petal width (cm)\n",
            "0                  5.1               3.5                1.4               0.2\n",
            "1                  4.9               3.0                1.4               0.2\n",
            "2                  4.7               3.2                1.3               0.2\n",
            "3                  4.6               3.1                1.5               0.2\n",
            "4                  5.0               3.6                1.4               0.2\n",
            "..                 ...               ...                ...               ...\n",
            "145                6.7               3.0                5.2               2.3\n",
            "146                6.3               2.5                5.0               1.9\n",
            "147                6.5               3.0                5.2               2.0\n",
            "148                6.2               3.4                5.4               2.3\n",
            "149                5.9               3.0                5.1               1.8\n",
            "\n",
            "[150 rows x 4 columns]\n"
          ],
          "name": "stdout"
        }
      ]
    },
    {
      "cell_type": "markdown",
      "metadata": {
        "id": "MG5VDqygqzw8"
      },
      "source": [
        "The dataset is small ie. 150 rows and 4 columns "
      ]
    },
    {
      "cell_type": "markdown",
      "metadata": {
        "id": "dmUxO58Sqzml"
      },
      "source": [
        "ADDING LABELS TO THE ABOVE DATASET"
      ]
    },
    {
      "cell_type": "code",
      "metadata": {
        "colab": {
          "base_uri": "https://localhost:8080/"
        },
        "id": "J4sBO6oGZ86f",
        "outputId": "8372e225-177b-4f59-9340-e83a0ba7b9c9"
      },
      "source": [
        "\n",
        "#print(dataset.target)# WE KNOW THAT WE NEED TO USE TARGET SINCE THE DATA HAS THE COLUMMN TARGET\n",
        "#ADDING ONE MORE COLUMNS\n",
        "#NUMERICAL REPRESNETATION OF TARGET\n",
        "dframe['labels'] = dataset.target.astype(int) # Labels are represented as integers\n",
        "print(dframe)\n",
        "# add \"target_label\" column to the dataset and name it \"label\"\n"
      ],
      "execution_count": 70,
      "outputs": [
        {
          "output_type": "stream",
          "text": [
            "     sepal length (cm)  sepal width (cm)  ...  petal width (cm)  labels\n",
            "0                  5.1               3.5  ...               0.2       0\n",
            "1                  4.9               3.0  ...               0.2       0\n",
            "2                  4.7               3.2  ...               0.2       0\n",
            "3                  4.6               3.1  ...               0.2       0\n",
            "4                  5.0               3.6  ...               0.2       0\n",
            "..                 ...               ...  ...               ...     ...\n",
            "145                6.7               3.0  ...               2.3       2\n",
            "146                6.3               2.5  ...               1.9       2\n",
            "147                6.5               3.0  ...               2.0       2\n",
            "148                6.2               3.4  ...               2.3       2\n",
            "149                5.9               3.0  ...               1.8       2\n",
            "\n",
            "[150 rows x 5 columns]\n"
          ],
          "name": "stdout"
        }
      ]
    },
    {
      "cell_type": "markdown",
      "metadata": {
        "id": "nK9N1whet3SL"
      },
      "source": [
        "REPRESENTING THE LABELS WITH STRING VALUES"
      ]
    },
    {
      "cell_type": "code",
      "metadata": {
        "colab": {
          "base_uri": "https://localhost:8080/"
        },
        "id": "nI6vgCnX27rd",
        "outputId": "f7f92b0e-077f-4434-c0f5-4a81c9f8fc28"
      },
      "source": [
        "#STRING REPRESNETATION OF LABELS COLUMN CREATED ABOVE \n",
        "# use of String label\n",
        "dframe['label_names'] = dframe.labels.replace(dict(enumerate(dataset.target_names)))\n",
        "print(dframe)"
      ],
      "execution_count": 72,
      "outputs": [
        {
          "output_type": "stream",
          "text": [
            "     sepal length (cm)  sepal width (cm)  ...  labels  label_names\n",
            "0                  5.1               3.5  ...       0       setosa\n",
            "1                  4.9               3.0  ...       0       setosa\n",
            "2                  4.7               3.2  ...       0       setosa\n",
            "3                  4.6               3.1  ...       0       setosa\n",
            "4                  5.0               3.6  ...       0       setosa\n",
            "..                 ...               ...  ...     ...          ...\n",
            "145                6.7               3.0  ...       2    virginica\n",
            "146                6.3               2.5  ...       2    virginica\n",
            "147                6.5               3.0  ...       2    virginica\n",
            "148                6.2               3.4  ...       2    virginica\n",
            "149                5.9               3.0  ...       2    virginica\n",
            "\n",
            "[150 rows x 6 columns]\n"
          ],
          "name": "stdout"
        }
      ]
    },
    {
      "cell_type": "markdown",
      "metadata": {
        "id": "0-Xp5KZ4rF2l"
      },
      "source": [
        "A string representation of the above labels has been created"
      ]
    },
    {
      "cell_type": "code",
      "metadata": {
        "colab": {
          "base_uri": "https://localhost:8080/",
          "height": 204
        },
        "id": "LrP1_tfKZ86f",
        "outputId": "d34748f6-1c8f-4aab-9a23-174eb94ad286"
      },
      "source": [
        "# Prints the 5 first rows/samples of the dataset\n",
        "dframe.head(5)"
      ],
      "execution_count": 73,
      "outputs": [
        {
          "output_type": "execute_result",
          "data": {
            "text/html": [
              "<div>\n",
              "<style scoped>\n",
              "    .dataframe tbody tr th:only-of-type {\n",
              "        vertical-align: middle;\n",
              "    }\n",
              "\n",
              "    .dataframe tbody tr th {\n",
              "        vertical-align: top;\n",
              "    }\n",
              "\n",
              "    .dataframe thead th {\n",
              "        text-align: right;\n",
              "    }\n",
              "</style>\n",
              "<table border=\"1\" class=\"dataframe\">\n",
              "  <thead>\n",
              "    <tr style=\"text-align: right;\">\n",
              "      <th></th>\n",
              "      <th>sepal length (cm)</th>\n",
              "      <th>sepal width (cm)</th>\n",
              "      <th>petal length (cm)</th>\n",
              "      <th>petal width (cm)</th>\n",
              "      <th>labels</th>\n",
              "      <th>label_names</th>\n",
              "    </tr>\n",
              "  </thead>\n",
              "  <tbody>\n",
              "    <tr>\n",
              "      <th>0</th>\n",
              "      <td>5.1</td>\n",
              "      <td>3.5</td>\n",
              "      <td>1.4</td>\n",
              "      <td>0.2</td>\n",
              "      <td>0</td>\n",
              "      <td>setosa</td>\n",
              "    </tr>\n",
              "    <tr>\n",
              "      <th>1</th>\n",
              "      <td>4.9</td>\n",
              "      <td>3.0</td>\n",
              "      <td>1.4</td>\n",
              "      <td>0.2</td>\n",
              "      <td>0</td>\n",
              "      <td>setosa</td>\n",
              "    </tr>\n",
              "    <tr>\n",
              "      <th>2</th>\n",
              "      <td>4.7</td>\n",
              "      <td>3.2</td>\n",
              "      <td>1.3</td>\n",
              "      <td>0.2</td>\n",
              "      <td>0</td>\n",
              "      <td>setosa</td>\n",
              "    </tr>\n",
              "    <tr>\n",
              "      <th>3</th>\n",
              "      <td>4.6</td>\n",
              "      <td>3.1</td>\n",
              "      <td>1.5</td>\n",
              "      <td>0.2</td>\n",
              "      <td>0</td>\n",
              "      <td>setosa</td>\n",
              "    </tr>\n",
              "    <tr>\n",
              "      <th>4</th>\n",
              "      <td>5.0</td>\n",
              "      <td>3.6</td>\n",
              "      <td>1.4</td>\n",
              "      <td>0.2</td>\n",
              "      <td>0</td>\n",
              "      <td>setosa</td>\n",
              "    </tr>\n",
              "  </tbody>\n",
              "</table>\n",
              "</div>"
            ],
            "text/plain": [
              "   sepal length (cm)  sepal width (cm)  ...  labels  label_names\n",
              "0                5.1               3.5  ...       0       setosa\n",
              "1                4.9               3.0  ...       0       setosa\n",
              "2                4.7               3.2  ...       0       setosa\n",
              "3                4.6               3.1  ...       0       setosa\n",
              "4                5.0               3.6  ...       0       setosa\n",
              "\n",
              "[5 rows x 6 columns]"
            ]
          },
          "metadata": {
            "tags": []
          },
          "execution_count": 73
        }
      ]
    },
    {
      "cell_type": "code",
      "metadata": {
        "id": "Ag9_85f1Z86g",
        "colab": {
          "base_uri": "https://localhost:8080/",
          "height": 297
        },
        "outputId": "93147350-9904-492b-d709-38880cbcb25e"
      },
      "source": [
        "# Generates a short description of the dataset (missing values, mean values, etc.)\n",
        "dframe.describe()"
      ],
      "execution_count": 74,
      "outputs": [
        {
          "output_type": "execute_result",
          "data": {
            "text/html": [
              "<div>\n",
              "<style scoped>\n",
              "    .dataframe tbody tr th:only-of-type {\n",
              "        vertical-align: middle;\n",
              "    }\n",
              "\n",
              "    .dataframe tbody tr th {\n",
              "        vertical-align: top;\n",
              "    }\n",
              "\n",
              "    .dataframe thead th {\n",
              "        text-align: right;\n",
              "    }\n",
              "</style>\n",
              "<table border=\"1\" class=\"dataframe\">\n",
              "  <thead>\n",
              "    <tr style=\"text-align: right;\">\n",
              "      <th></th>\n",
              "      <th>sepal length (cm)</th>\n",
              "      <th>sepal width (cm)</th>\n",
              "      <th>petal length (cm)</th>\n",
              "      <th>petal width (cm)</th>\n",
              "      <th>labels</th>\n",
              "    </tr>\n",
              "  </thead>\n",
              "  <tbody>\n",
              "    <tr>\n",
              "      <th>count</th>\n",
              "      <td>150.000000</td>\n",
              "      <td>150.000000</td>\n",
              "      <td>150.000000</td>\n",
              "      <td>150.000000</td>\n",
              "      <td>150.000000</td>\n",
              "    </tr>\n",
              "    <tr>\n",
              "      <th>mean</th>\n",
              "      <td>5.843333</td>\n",
              "      <td>3.057333</td>\n",
              "      <td>3.758000</td>\n",
              "      <td>1.199333</td>\n",
              "      <td>1.000000</td>\n",
              "    </tr>\n",
              "    <tr>\n",
              "      <th>std</th>\n",
              "      <td>0.828066</td>\n",
              "      <td>0.435866</td>\n",
              "      <td>1.765298</td>\n",
              "      <td>0.762238</td>\n",
              "      <td>0.819232</td>\n",
              "    </tr>\n",
              "    <tr>\n",
              "      <th>min</th>\n",
              "      <td>4.300000</td>\n",
              "      <td>2.000000</td>\n",
              "      <td>1.000000</td>\n",
              "      <td>0.100000</td>\n",
              "      <td>0.000000</td>\n",
              "    </tr>\n",
              "    <tr>\n",
              "      <th>25%</th>\n",
              "      <td>5.100000</td>\n",
              "      <td>2.800000</td>\n",
              "      <td>1.600000</td>\n",
              "      <td>0.300000</td>\n",
              "      <td>0.000000</td>\n",
              "    </tr>\n",
              "    <tr>\n",
              "      <th>50%</th>\n",
              "      <td>5.800000</td>\n",
              "      <td>3.000000</td>\n",
              "      <td>4.350000</td>\n",
              "      <td>1.300000</td>\n",
              "      <td>1.000000</td>\n",
              "    </tr>\n",
              "    <tr>\n",
              "      <th>75%</th>\n",
              "      <td>6.400000</td>\n",
              "      <td>3.300000</td>\n",
              "      <td>5.100000</td>\n",
              "      <td>1.800000</td>\n",
              "      <td>2.000000</td>\n",
              "    </tr>\n",
              "    <tr>\n",
              "      <th>max</th>\n",
              "      <td>7.900000</td>\n",
              "      <td>4.400000</td>\n",
              "      <td>6.900000</td>\n",
              "      <td>2.500000</td>\n",
              "      <td>2.000000</td>\n",
              "    </tr>\n",
              "  </tbody>\n",
              "</table>\n",
              "</div>"
            ],
            "text/plain": [
              "       sepal length (cm)  sepal width (cm)  ...  petal width (cm)      labels\n",
              "count         150.000000        150.000000  ...        150.000000  150.000000\n",
              "mean            5.843333          3.057333  ...          1.199333    1.000000\n",
              "std             0.828066          0.435866  ...          0.762238    0.819232\n",
              "min             4.300000          2.000000  ...          0.100000    0.000000\n",
              "25%             5.100000          2.800000  ...          0.300000    0.000000\n",
              "50%             5.800000          3.000000  ...          1.300000    1.000000\n",
              "75%             6.400000          3.300000  ...          1.800000    2.000000\n",
              "max             7.900000          4.400000  ...          2.500000    2.000000\n",
              "\n",
              "[8 rows x 5 columns]"
            ]
          },
          "metadata": {
            "tags": []
          },
          "execution_count": 74
        }
      ]
    },
    {
      "cell_type": "markdown",
      "metadata": {
        "id": "Lrkl09hm7UsP"
      },
      "source": [
        "There are no missing values since he count of all the columns is 150."
      ]
    },
    {
      "cell_type": "markdown",
      "metadata": {
        "id": "4aHbQ6ObZ86h"
      },
      "source": [
        "## Train, Validation and Test Sets Split"
      ]
    },
    {
      "cell_type": "code",
      "metadata": {
        "colab": {
          "base_uri": "https://localhost:8080/"
        },
        "id": "YSUAUx5uZ86i",
        "outputId": "495fef1e-7820-4847-a19a-efdc7be5b45c"
      },
      "source": [
        "# Extracting the features and labels from the dataset \n",
        "X = np.asarray(dframe[['sepal length (cm)', 'sepal width (cm)', 'petal length (cm)', 'petal width (cm)']])\n",
        "Y = np.asarray(dframe['labels'])\n",
        "#WE NEED TO CONVERT DATAFRAME TO NP ARRAY\n",
        "#np.asarray convertes  the dataframe values into the mutimentional numpy array\n",
        "\n",
        "# First we will shuffle the samples\n",
        "#print(X.shape[0])\n",
        "indexes = np.arange(X.shape[0]) # indexes = np.arange(150) # creat an evenly spaced array whose values r ranging from 0 to 150\n",
        "#print(indexes)\n",
        "np.random.shuffle(indexes)#shuffling values to create randomization in the dataset\n",
        "#print(indexes) #array has random value array\n",
        "X = X[indexes,:] # here we r using array to randomize the dataset\n",
        "# we rassign the values according to the new order\n",
        "Y = Y[indexes]\n",
        "\n",
        "# Then, we split our data into train/val/test sets\n",
        "#here we r declaring teh splitting ratio\n",
        "#print(Y.size)\n",
        "train_split = np.int(0.5*Y.size)#150*0.5 = 75\n",
        "val_split = np.int(0.75*Y.size)#0.75*150=112\n",
        "\n",
        "X_train = X[:train_split,:]#rows = :train_split # consider all the rows from 0 to 75 , # columns = : # consider all the columnsn of those rows\n",
        "Y_train = Y[:train_split] # consider all the rows from 0 to 75 in the label column\n",
        "print( \"Size of X_train : \" , X_train.size)# total nummber of values\n",
        "\n",
        "print( \"Shape of X_train : \" , X_train.shape)# shape of the array\n",
        "\n",
        "X_val = X[train_split:val_split,:]# all rows between 75 and 112 ie. 37\n",
        "Y_val = Y[train_split:val_split]\n",
        "print( \"Shape of X_val : \" , X_val.shape)# shape of the array\n",
        "\n",
        "X_test = X[val_split:,:]# all rows from 112 to 149 ie.e 38 rows\n",
        "Y_test = Y[val_split:]\n",
        "print( \"Shape of X_test : \" , X_test.shape)# shape of the array"
      ],
      "execution_count": 63,
      "outputs": [
        {
          "output_type": "stream",
          "text": [
            "Size of X_train :  300\n",
            "Shape of X_train :  (75, 4)\n",
            "Shape of X_val :  (37, 4)\n",
            "Shape of X_test :  (38, 4)\n"
          ],
          "name": "stdout"
        }
      ]
    },
    {
      "cell_type": "markdown",
      "metadata": {
        "id": "BAsmIMViZ86i"
      },
      "source": [
        "## Data Normalization\n",
        "The goal is to normalize/chnage the values in the NUMERICAL datset between 0 and 1 which disorting the range of values\n",
        "It is required only when the features have very high and differnet ranges"
      ]
    },
    {
      "cell_type": "code",
      "metadata": {
        "colab": {
          "base_uri": "https://localhost:8080/"
        },
        "id": "c8aTRNXiZ86i",
        "outputId": "e28512c3-9715-4229-fe41-149411c02808"
      },
      "source": [
        "# min-max data normalization\n",
        "print(\"Original Traning Values\")\n",
        "print(X_train[0])# print out the first row of teh X_train\n",
        "x_train_min = X_train.min(axis = 0, keepdims = True)# axis = 0 represnts the rows\n",
        "# it will find the minimum value in a particular row and assihgn it to x_train_min #ask\n",
        "#print(x_train_min)\n",
        "x_train_max = X_train.max(axis = 0, keepdims = True)\n",
        "\n",
        "print(\"--------------------------------------------\")\n",
        "\n",
        "X_train = (X_train - x_train_min)/(x_train_max - x_train_min)\n",
        "X_val = (X_val - x_train_min)/(x_train_max - x_train_min)\n",
        "X_test = (X_test - x_train_min)/(x_train_max - x_train_min)\n",
        "print(\"Standardized Traning Values\")\n",
        "print(X_train[0])\n",
        "\n",
        "#####################################################################################\n",
        "#Activity suggestion:\n",
        "# 1. Change the min-max normalization above by standardization ((X - mean)/(std))\n",
        "# 2. Don't normalize the data and see what happens\n",
        "####################################################################################"
      ],
      "execution_count": 75,
      "outputs": [
        {
          "output_type": "stream",
          "text": [
            "Original Traning Values\n",
            "[5.6 3.  4.5 1.5]\n",
            "--------------------------------------------\n",
            "Standardized Traning Values\n",
            "[0.38235294 0.4        0.5862069  0.60869565]\n"
          ],
          "name": "stdout"
        }
      ]
    },
    {
      "cell_type": "markdown",
      "metadata": {
        "id": "378uyl4HHovA"
      },
      "source": [
        "The orginal value it will changed from 7.1 to 0.77"
      ]
    },
    {
      "cell_type": "markdown",
      "metadata": {
        "id": "haESIaQ3Z86j"
      },
      "source": [
        "## Representing Labels using one-hot-ecoding\n",
        "It is the represntation of categorial values as binary vectors\n",
        "\n",
        "Categorial variable in Y datset have been converted to integer values, each integer values are represnted as a binary value that is all 0 values except the value of integer marked as 1"
      ]
    },
    {
      "cell_type": "code",
      "metadata": {
        "colab": {
          "base_uri": "https://localhost:8080/"
        },
        "id": "DZaIuJw2Z86j",
        "outputId": "561216f1-ec65-4b13-9bcd-b994f90e4d56"
      },
      "source": [
        "k = np.unique(Y).size\n",
        "print('The number of unique labels are:')\n",
        "print(k)\n",
        "#print(Y_oh_train)\n",
        "Y_oh_train = to_categorical(Y_train, k) #converts class vector to binary class matrix \n",
        "# here the categorical variables in Y_train are converted to binary values based on k ie. the unique values in Y label\n",
        "Y_oh_val = to_categorical(Y_val, k)\n",
        "Y_oh_test = to_categorical(Y_test, k)\n",
        "# Displaying the 5 first elemnts\n",
        "print('\\nY_train[:5]:')\n",
        "print(Y_train[:5])\n",
        "print('\\nY_oh_train[:5]=')\n",
        "print(Y_oh_train[:5])\n"
      ],
      "execution_count": 78,
      "outputs": [
        {
          "output_type": "stream",
          "text": [
            "The number of unique labels are:\n",
            "3\n",
            "\n",
            "Y_train[:5]:\n",
            "[1 2 0 1 0]\n",
            "\n",
            "Y_oh_train[:5]=\n",
            "[[0. 1. 0.]\n",
            " [0. 0. 1.]\n",
            " [1. 0. 0.]\n",
            " [0. 1. 0.]\n",
            " [1. 0. 0.]]\n"
          ],
          "name": "stdout"
        }
      ]
    },
    {
      "cell_type": "markdown",
      "metadata": {
        "id": "qdq183taZ86k"
      },
      "source": [
        "## Different Approaches for Defining Neural Networks\n",
        "## METHOD 1\n",
        "### 1. The Sequential API\n",
        "It is a linear stack of layers"
      ]
    },
    {
      "cell_type": "code",
      "metadata": {
        "colab": {
          "base_uri": "https://localhost:8080/"
        },
        "id": "20nbOkXHZ86k",
        "outputId": "34a5cde5-4914-49fb-d260-ce96c9e08125"
      },
      "source": [
        "from tensorflow.keras.models import Sequential \n",
        "# Passing a list of layers to the constructor\n",
        "model = Sequential([\n",
        "    tf.keras.layers.Dense(20, activation='relu', input_shape=(4,) , name = \"layer1\"), # 5 nodes for layer 1 # FIXED input shape expected shoudl be written\n",
        "    # here we have input_shape=(4,) since we have 4 differnet features to layer 1\n",
        "    tf.keras.layers.Dense(50, activation='relu' , name = \"layer2\"),  # 10 nodes for layer 2\n",
        "    tf.keras.layers.Dense(50, activation='relu' , name = \"layer3\"),  # 10 nodes for layer 3\n",
        "    tf.keras.layers.Dense(3, activation='softmax', name = \"layer4\"), # 3 nodes or neurons for layer 4 #fixed 3 neurons since 3 labels\n",
        "])\n",
        "model.summary()\n",
        "\n",
        "\n",
        "# adding layer via add() method\n",
        "# from tf.keras.layers import Dense\n",
        "# model_seq = Sequential ()\n",
        "# model_seq.add(Dense(5, activation = 'relu' , input_shape = (4,1)))\n",
        "# model_seq.add(Dense(10, activation = 'relu' ))\n",
        "# model_seq.add(Dense(3, activation = 'softmax' ))\n",
        "# model_seq.aummary()\n",
        "\n",
        "#n_input*n_node + bias(n_node)\n",
        "# 4*5+5 = 25\n",
        "# 5*10+10 = 60\n",
        "# 10*3 + 3 = 33"
      ],
      "execution_count": 56,
      "outputs": [
        {
          "output_type": "stream",
          "text": [
            "Model: \"sequential_7\"\n",
            "_________________________________________________________________\n",
            "Layer (type)                 Output Shape              Param #   \n",
            "=================================================================\n",
            "layer1 (Dense)               (None, 20)                100       \n",
            "_________________________________________________________________\n",
            "layer2 (Dense)               (None, 50)                1050      \n",
            "_________________________________________________________________\n",
            "layer3 (Dense)               (None, 50)                2550      \n",
            "_________________________________________________________________\n",
            "layer4 (Dense)               (None, 3)                 153       \n",
            "=================================================================\n",
            "Total params: 3,853\n",
            "Trainable params: 3,853\n",
            "Non-trainable params: 0\n",
            "_________________________________________________________________\n"
          ],
          "name": "stdout"
        }
      ]
    },
    {
      "cell_type": "markdown",
      "metadata": {
        "id": "8G0iyp6pjPPk"
      },
      "source": [
        "parameters are to ne trained when u compile the model\n",
        "parameters = (input+1)x output = (4+1)*5 = 25\n",
        "\n",
        "\n",
        "- parameters = (input+1)x output = (5+1)*10 = 60\n",
        "- parameters = (input+1)x output = (10+1)*3 = 33"
      ]
    },
    {
      "cell_type": "markdown",
      "metadata": {
        "id": "YCAP_MTaZ86k"
      },
      "source": [
        "## METHOD 2\n",
        "### 2. The Functional API"
      ]
    },
    {
      "cell_type": "code",
      "metadata": {
        "id": "qGVV_v7iZ86k",
        "colab": {
          "base_uri": "https://localhost:8080/"
        },
        "outputId": "db09746d-8f68-466f-c236-9dcdf9844911"
      },
      "source": [
        "from tensorflow.keras.models import Model #import class known as models\n",
        "# This returns a tensor\n",
        "inputs = tf.keras.layers.Input(shape=(4,)) # defining input layer and the output of this layer is assigned to input variable\n",
        "# A layer instance is callable on a tensor, and returns a tensor\n",
        "x1 = tf.keras.layers.Dense(5, activation='relu')(inputs) # it has 5 outputs\n",
        "x2 = tf.keras.layers.Dense(10, activation='relu')(x1) \n",
        "outputs = tf.keras.layers.Dense(3, activation='softmax')(x2) # it has 3 outputs sinc ethree classes\n",
        "# we neeed to have probability at the end so tahta we cna choose  the class with the highest probability\n",
        "# This creates a model that includes\n",
        "# the Input layer and three Dense layers\n",
        "model = Model(inputs=inputs, outputs=outputs)\n",
        "# here u have only one input and 1 output but u may also have mutiple input and mtiple output \n",
        "#model = Model(input = [input_tensor, input02...]), outyput = [out_tensor, out02,..])\n",
        "model.summary()"
      ],
      "execution_count": 46,
      "outputs": [
        {
          "output_type": "stream",
          "text": [
            "Model: \"model\"\n",
            "_________________________________________________________________\n",
            "Layer (type)                 Output Shape              Param #   \n",
            "=================================================================\n",
            "input_1 (InputLayer)         [(None, 4)]               0         \n",
            "_________________________________________________________________\n",
            "dense (Dense)                (None, 5)                 25        \n",
            "_________________________________________________________________\n",
            "dense_1 (Dense)              (None, 10)                60        \n",
            "_________________________________________________________________\n",
            "dense_2 (Dense)              (None, 3)                 33        \n",
            "=================================================================\n",
            "Total params: 118\n",
            "Trainable params: 118\n",
            "Non-trainable params: 0\n",
            "_________________________________________________________________\n"
          ],
          "name": "stdout"
        }
      ]
    },
    {
      "cell_type": "markdown",
      "metadata": {
        "id": "DOs9R2EGZ86l"
      },
      "source": [
        "## METHOD 3\n",
        "## 3. Model Subclassing \n",
        "advanatge - u can use this approach to define ur own deep learning layers"
      ]
    },
    {
      "cell_type": "code",
      "metadata": {
        "id": "cBMw14gXZ86l",
        "outputId": "d61e8a31-469f-4463-c1f4-a626a0e25704"
      },
      "source": [
        "class MyNeuralNetwork(Model): # MyNeuralNetwork is a subclass of Model class\n",
        "    def __init__(self, **kwargs):\n",
        "        super(MyNeuralNetwork, self).__init__(**kwargs)#ask\n",
        "        self.dense1 = tf.keras.layers.Dense(5, activation='relu', )\n",
        "        self.dense2 = tf.keras.layers.Dense(10, activation='relu')\n",
        "        self.dense3 = tf.keras.layers.Dense(3, activation='softmax')\n",
        "        \n",
        "    def call(self, inputs): # also define a call function \n",
        "        x = self.dense1(inputs)\n",
        "        x = self.dense2(x)\n",
        "        return self.dense3(x)\n",
        "model = MyNeuralNetwork()\n",
        "model.build(input_shape = (None,4))# 4 features\n",
        "model.summary()"
      ],
      "execution_count": null,
      "outputs": [
        {
          "output_type": "stream",
          "text": [
            "Model: \"my_neural_network\"\n",
            "_________________________________________________________________\n",
            "Layer (type)                 Output Shape              Param #   \n",
            "=================================================================\n",
            "dense_3 (Dense)              multiple                  25        \n",
            "_________________________________________________________________\n",
            "dense_4 (Dense)              multiple                  60        \n",
            "_________________________________________________________________\n",
            "dense_5 (Dense)              multiple                  33        \n",
            "=================================================================\n",
            "Total params: 118\n",
            "Trainable params: 118\n",
            "Non-trainable params: 0\n",
            "_________________________________________________________________\n"
          ],
          "name": "stdout"
        }
      ]
    },
    {
      "cell_type": "markdown",
      "metadata": {
        "id": "ukhOTfhgZ86l"
      },
      "source": [
        "## Training and Testing the Model"
      ]
    },
    {
      "cell_type": "code",
      "metadata": {
        "id": "GYOCNLGRZ86m"
      },
      "source": [
        "model.compile(optimizer='adam',loss='categorical_crossentropy', metrics=['accuracy']) # compiling the model\n",
        "# optimizer is adam\n",
        "# loss is categorical_cross =entropy for muticlass classification probelm\n",
        "# accuracy is used as evaluation matrix\n",
        "# u choose the matrix ur trying to monitor"
      ],
      "execution_count": 79,
      "outputs": []
    },
    {
      "cell_type": "code",
      "metadata": {
        "id": "j_qDbGgnZ86m",
        "colab": {
          "base_uri": "https://localhost:8080/"
        },
        "outputId": "bafdea04-d9d1-4497-8376-3cbc668fea40"
      },
      "source": [
        "# training the model \n",
        "history = model.fit(X_train, Y_oh_train, validation_data=(X_val,Y_oh_val),batch_size= 64, epochs= 100)\n",
        "#Y_oh_train is binary represnetation of precited va;ues\n",
        "# batch_szine deines the number of samples propogated through teh model\n",
        "# if u have 1000 samples and u ahve a batch sinze of 100, the alrothim takes first 1000 samples to train teh netwrok\n",
        "#epoch is how many times u go through ur training steps\n"
      ],
      "execution_count": 80,
      "outputs": [
        {
          "output_type": "stream",
          "text": [
            "Epoch 1/100\n",
            "2/2 [==============================] - 1s 191ms/step - loss: 0.2543 - accuracy: 0.9347 - val_loss: 0.2516 - val_accuracy: 0.9189\n",
            "Epoch 2/100\n",
            "2/2 [==============================] - 0s 43ms/step - loss: 0.2244 - accuracy: 0.9347 - val_loss: 0.2740 - val_accuracy: 0.8919\n",
            "Epoch 3/100\n",
            "2/2 [==============================] - 0s 39ms/step - loss: 0.2213 - accuracy: 0.9206 - val_loss: 0.2681 - val_accuracy: 0.9189\n",
            "Epoch 4/100\n",
            "2/2 [==============================] - 0s 43ms/step - loss: 0.2139 - accuracy: 0.9206 - val_loss: 0.2603 - val_accuracy: 0.9189\n",
            "Epoch 5/100\n",
            "2/2 [==============================] - 0s 37ms/step - loss: 0.2107 - accuracy: 0.9347 - val_loss: 0.2556 - val_accuracy: 0.9189\n",
            "Epoch 6/100\n",
            "2/2 [==============================] - 0s 37ms/step - loss: 0.2179 - accuracy: 0.9295 - val_loss: 0.2504 - val_accuracy: 0.9189\n",
            "Epoch 7/100\n",
            "2/2 [==============================] - 0s 46ms/step - loss: 0.2035 - accuracy: 0.9399 - val_loss: 0.2428 - val_accuracy: 0.9459\n",
            "Epoch 8/100\n",
            "2/2 [==============================] - 0s 41ms/step - loss: 0.2028 - accuracy: 0.9347 - val_loss: 0.2331 - val_accuracy: 0.9459\n",
            "Epoch 9/100\n",
            "2/2 [==============================] - 0s 187ms/step - loss: 0.2036 - accuracy: 0.9436 - val_loss: 0.2248 - val_accuracy: 0.9189\n",
            "Epoch 10/100\n",
            "2/2 [==============================] - 0s 43ms/step - loss: 0.2044 - accuracy: 0.9436 - val_loss: 0.2198 - val_accuracy: 0.9459\n",
            "Epoch 11/100\n",
            "2/2 [==============================] - 0s 43ms/step - loss: 0.2025 - accuracy: 0.9436 - val_loss: 0.2175 - val_accuracy: 0.9730\n",
            "Epoch 12/100\n",
            "2/2 [==============================] - 0s 36ms/step - loss: 0.1987 - accuracy: 0.9436 - val_loss: 0.2157 - val_accuracy: 0.9459\n",
            "Epoch 13/100\n",
            "2/2 [==============================] - 0s 39ms/step - loss: 0.1858 - accuracy: 0.9488 - val_loss: 0.2154 - val_accuracy: 0.9459\n",
            "Epoch 14/100\n",
            "2/2 [==============================] - 0s 42ms/step - loss: 0.1894 - accuracy: 0.9436 - val_loss: 0.2162 - val_accuracy: 0.9459\n",
            "Epoch 15/100\n",
            "2/2 [==============================] - 0s 43ms/step - loss: 0.1815 - accuracy: 0.9347 - val_loss: 0.2154 - val_accuracy: 0.9189\n",
            "Epoch 16/100\n",
            "2/2 [==============================] - 0s 42ms/step - loss: 0.1773 - accuracy: 0.9488 - val_loss: 0.2148 - val_accuracy: 0.9189\n",
            "Epoch 17/100\n",
            "2/2 [==============================] - 0s 41ms/step - loss: 0.1799 - accuracy: 0.9488 - val_loss: 0.2121 - val_accuracy: 0.9189\n",
            "Epoch 18/100\n",
            "2/2 [==============================] - 0s 42ms/step - loss: 0.1776 - accuracy: 0.9436 - val_loss: 0.2051 - val_accuracy: 0.9189\n",
            "Epoch 19/100\n",
            "2/2 [==============================] - 0s 40ms/step - loss: 0.1699 - accuracy: 0.9488 - val_loss: 0.1973 - val_accuracy: 0.9459\n",
            "Epoch 20/100\n",
            "2/2 [==============================] - 0s 41ms/step - loss: 0.1688 - accuracy: 0.9436 - val_loss: 0.1926 - val_accuracy: 0.9459\n",
            "Epoch 21/100\n",
            "2/2 [==============================] - 0s 39ms/step - loss: 0.1680 - accuracy: 0.9436 - val_loss: 0.1885 - val_accuracy: 0.9459\n",
            "Epoch 22/100\n",
            "2/2 [==============================] - 0s 44ms/step - loss: 0.1660 - accuracy: 0.9436 - val_loss: 0.1837 - val_accuracy: 0.9730\n",
            "Epoch 23/100\n",
            "2/2 [==============================] - 0s 41ms/step - loss: 0.1538 - accuracy: 0.9488 - val_loss: 0.1805 - val_accuracy: 0.9730\n",
            "Epoch 24/100\n",
            "2/2 [==============================] - 0s 58ms/step - loss: 0.1537 - accuracy: 0.9488 - val_loss: 0.1820 - val_accuracy: 0.9189\n",
            "Epoch 25/100\n",
            "2/2 [==============================] - 0s 41ms/step - loss: 0.1522 - accuracy: 0.9629 - val_loss: 0.1868 - val_accuracy: 0.9189\n",
            "Epoch 26/100\n",
            "2/2 [==============================] - 0s 41ms/step - loss: 0.1524 - accuracy: 0.9577 - val_loss: 0.1866 - val_accuracy: 0.9189\n",
            "Epoch 27/100\n",
            "2/2 [==============================] - 0s 42ms/step - loss: 0.1516 - accuracy: 0.9577 - val_loss: 0.1825 - val_accuracy: 0.9189\n",
            "Epoch 28/100\n",
            "2/2 [==============================] - 0s 45ms/step - loss: 0.1501 - accuracy: 0.9577 - val_loss: 0.1767 - val_accuracy: 0.9189\n",
            "Epoch 29/100\n",
            "2/2 [==============================] - 0s 41ms/step - loss: 0.1396 - accuracy: 0.9629 - val_loss: 0.1647 - val_accuracy: 0.9459\n",
            "Epoch 30/100\n",
            "2/2 [==============================] - 0s 45ms/step - loss: 0.1404 - accuracy: 0.9577 - val_loss: 0.1559 - val_accuracy: 0.9730\n",
            "Epoch 31/100\n",
            "2/2 [==============================] - 0s 38ms/step - loss: 0.1456 - accuracy: 0.9488 - val_loss: 0.1542 - val_accuracy: 0.9730\n",
            "Epoch 32/100\n",
            "2/2 [==============================] - 0s 41ms/step - loss: 0.1410 - accuracy: 0.9488 - val_loss: 0.1517 - val_accuracy: 0.9730\n",
            "Epoch 33/100\n",
            "2/2 [==============================] - 0s 39ms/step - loss: 0.1405 - accuracy: 0.9436 - val_loss: 0.1546 - val_accuracy: 0.9459\n",
            "Epoch 34/100\n",
            "2/2 [==============================] - 0s 41ms/step - loss: 0.1369 - accuracy: 0.9577 - val_loss: 0.1625 - val_accuracy: 0.9189\n",
            "Epoch 35/100\n",
            "2/2 [==============================] - 0s 48ms/step - loss: 0.1338 - accuracy: 0.9577 - val_loss: 0.1667 - val_accuracy: 0.9189\n",
            "Epoch 36/100\n",
            "2/2 [==============================] - 0s 44ms/step - loss: 0.1249 - accuracy: 0.9681 - val_loss: 0.1632 - val_accuracy: 0.9189\n",
            "Epoch 37/100\n",
            "2/2 [==============================] - 0s 35ms/step - loss: 0.1292 - accuracy: 0.9577 - val_loss: 0.1538 - val_accuracy: 0.9189\n",
            "Epoch 38/100\n",
            "2/2 [==============================] - 0s 41ms/step - loss: 0.1249 - accuracy: 0.9718 - val_loss: 0.1435 - val_accuracy: 0.9730\n",
            "Epoch 39/100\n",
            "2/2 [==============================] - 0s 45ms/step - loss: 0.1271 - accuracy: 0.9577 - val_loss: 0.1388 - val_accuracy: 0.9730\n",
            "Epoch 40/100\n",
            "2/2 [==============================] - 0s 42ms/step - loss: 0.1267 - accuracy: 0.9629 - val_loss: 0.1369 - val_accuracy: 0.9730\n",
            "Epoch 41/100\n",
            "2/2 [==============================] - 0s 39ms/step - loss: 0.1326 - accuracy: 0.9577 - val_loss: 0.1374 - val_accuracy: 0.9730\n",
            "Epoch 42/100\n",
            "2/2 [==============================] - 0s 45ms/step - loss: 0.1156 - accuracy: 0.9629 - val_loss: 0.1424 - val_accuracy: 0.9459\n",
            "Epoch 43/100\n",
            "2/2 [==============================] - 0s 53ms/step - loss: 0.1186 - accuracy: 0.9718 - val_loss: 0.1494 - val_accuracy: 0.9189\n",
            "Epoch 44/100\n",
            "2/2 [==============================] - 0s 54ms/step - loss: 0.1192 - accuracy: 0.9577 - val_loss: 0.1537 - val_accuracy: 0.9189\n",
            "Epoch 45/100\n",
            "2/2 [==============================] - 0s 43ms/step - loss: 0.1208 - accuracy: 0.9577 - val_loss: 0.1531 - val_accuracy: 0.9189\n",
            "Epoch 46/100\n",
            "2/2 [==============================] - 0s 36ms/step - loss: 0.1192 - accuracy: 0.9577 - val_loss: 0.1409 - val_accuracy: 0.9459\n",
            "Epoch 47/100\n",
            "2/2 [==============================] - 0s 35ms/step - loss: 0.1113 - accuracy: 0.9718 - val_loss: 0.1298 - val_accuracy: 0.9459\n",
            "Epoch 48/100\n",
            "2/2 [==============================] - 0s 45ms/step - loss: 0.1087 - accuracy: 0.9629 - val_loss: 0.1250 - val_accuracy: 0.9730\n",
            "Epoch 49/100\n",
            "2/2 [==============================] - 0s 30ms/step - loss: 0.1125 - accuracy: 0.9577 - val_loss: 0.1230 - val_accuracy: 0.9730\n",
            "Epoch 50/100\n",
            "2/2 [==============================] - 0s 39ms/step - loss: 0.1100 - accuracy: 0.9577 - val_loss: 0.1213 - val_accuracy: 0.9730\n",
            "Epoch 51/100\n",
            "2/2 [==============================] - 0s 41ms/step - loss: 0.1081 - accuracy: 0.9629 - val_loss: 0.1197 - val_accuracy: 0.9730\n",
            "Epoch 52/100\n",
            "2/2 [==============================] - 0s 45ms/step - loss: 0.1019 - accuracy: 0.9681 - val_loss: 0.1213 - val_accuracy: 0.9459\n",
            "Epoch 53/100\n",
            "2/2 [==============================] - 0s 46ms/step - loss: 0.1029 - accuracy: 0.9629 - val_loss: 0.1341 - val_accuracy: 0.9459\n",
            "Epoch 54/100\n",
            "2/2 [==============================] - 0s 42ms/step - loss: 0.1096 - accuracy: 0.9577 - val_loss: 0.1496 - val_accuracy: 0.9189\n",
            "Epoch 55/100\n",
            "2/2 [==============================] - 0s 52ms/step - loss: 0.1136 - accuracy: 0.9436 - val_loss: 0.1467 - val_accuracy: 0.9189\n",
            "Epoch 56/100\n",
            "2/2 [==============================] - 0s 47ms/step - loss: 0.1000 - accuracy: 0.9540 - val_loss: 0.1285 - val_accuracy: 0.9459\n",
            "Epoch 57/100\n",
            "2/2 [==============================] - 0s 44ms/step - loss: 0.1012 - accuracy: 0.9718 - val_loss: 0.1140 - val_accuracy: 0.9459\n",
            "Epoch 58/100\n",
            "2/2 [==============================] - 0s 47ms/step - loss: 0.0987 - accuracy: 0.9577 - val_loss: 0.1099 - val_accuracy: 0.9730\n",
            "Epoch 59/100\n",
            "2/2 [==============================] - 0s 52ms/step - loss: 0.1050 - accuracy: 0.9629 - val_loss: 0.1092 - val_accuracy: 0.9730\n",
            "Epoch 60/100\n",
            "2/2 [==============================] - 0s 53ms/step - loss: 0.1118 - accuracy: 0.9577 - val_loss: 0.1076 - val_accuracy: 0.9730\n",
            "Epoch 61/100\n",
            "2/2 [==============================] - 0s 48ms/step - loss: 0.1005 - accuracy: 0.9629 - val_loss: 0.1089 - val_accuracy: 0.9459\n",
            "Epoch 62/100\n",
            "2/2 [==============================] - 0s 42ms/step - loss: 0.1004 - accuracy: 0.9577 - val_loss: 0.1166 - val_accuracy: 0.9459\n",
            "Epoch 63/100\n",
            "2/2 [==============================] - 0s 161ms/step - loss: 0.0982 - accuracy: 0.9718 - val_loss: 0.1250 - val_accuracy: 0.9459\n",
            "Epoch 64/100\n",
            "2/2 [==============================] - 0s 38ms/step - loss: 0.0986 - accuracy: 0.9718 - val_loss: 0.1270 - val_accuracy: 0.9459\n",
            "Epoch 65/100\n",
            "2/2 [==============================] - 0s 41ms/step - loss: 0.0977 - accuracy: 0.9577 - val_loss: 0.1278 - val_accuracy: 0.9459\n",
            "Epoch 66/100\n",
            "2/2 [==============================] - 0s 41ms/step - loss: 0.1015 - accuracy: 0.9577 - val_loss: 0.1252 - val_accuracy: 0.9459\n",
            "Epoch 67/100\n",
            "2/2 [==============================] - 0s 43ms/step - loss: 0.0906 - accuracy: 0.9770 - val_loss: 0.1161 - val_accuracy: 0.9459\n",
            "Epoch 68/100\n",
            "2/2 [==============================] - 0s 53ms/step - loss: 0.0923 - accuracy: 0.9718 - val_loss: 0.1074 - val_accuracy: 0.9459\n",
            "Epoch 69/100\n",
            "2/2 [==============================] - 0s 53ms/step - loss: 0.0802 - accuracy: 0.9822 - val_loss: 0.1051 - val_accuracy: 0.9459\n",
            "Epoch 70/100\n",
            "2/2 [==============================] - 0s 42ms/step - loss: 0.0946 - accuracy: 0.9577 - val_loss: 0.1048 - val_accuracy: 0.9459\n",
            "Epoch 71/100\n",
            "2/2 [==============================] - 0s 44ms/step - loss: 0.0927 - accuracy: 0.9718 - val_loss: 0.1031 - val_accuracy: 0.9459\n",
            "Epoch 72/100\n",
            "2/2 [==============================] - 0s 45ms/step - loss: 0.0915 - accuracy: 0.9577 - val_loss: 0.1017 - val_accuracy: 0.9459\n",
            "Epoch 73/100\n",
            "2/2 [==============================] - 0s 42ms/step - loss: 0.0863 - accuracy: 0.9629 - val_loss: 0.1047 - val_accuracy: 0.9459\n",
            "Epoch 74/100\n",
            "2/2 [==============================] - 0s 45ms/step - loss: 0.0915 - accuracy: 0.9718 - val_loss: 0.1127 - val_accuracy: 0.9459\n",
            "Epoch 75/100\n",
            "2/2 [==============================] - 0s 43ms/step - loss: 0.0900 - accuracy: 0.9718 - val_loss: 0.1138 - val_accuracy: 0.9459\n",
            "Epoch 76/100\n",
            "2/2 [==============================] - 0s 38ms/step - loss: 0.0877 - accuracy: 0.9770 - val_loss: 0.1102 - val_accuracy: 0.9459\n",
            "Epoch 77/100\n",
            "2/2 [==============================] - 0s 41ms/step - loss: 0.0894 - accuracy: 0.9718 - val_loss: 0.1063 - val_accuracy: 0.9459\n",
            "Epoch 78/100\n",
            "2/2 [==============================] - 0s 43ms/step - loss: 0.0872 - accuracy: 0.9718 - val_loss: 0.0979 - val_accuracy: 0.9459\n",
            "Epoch 79/100\n",
            "2/2 [==============================] - 0s 40ms/step - loss: 0.0851 - accuracy: 0.9770 - val_loss: 0.0933 - val_accuracy: 0.9459\n",
            "Epoch 80/100\n",
            "2/2 [==============================] - 0s 41ms/step - loss: 0.0807 - accuracy: 0.9681 - val_loss: 0.0945 - val_accuracy: 0.9459\n",
            "Epoch 81/100\n",
            "2/2 [==============================] - 0s 49ms/step - loss: 0.0742 - accuracy: 0.9681 - val_loss: 0.1084 - val_accuracy: 0.9459\n",
            "Epoch 82/100\n",
            "2/2 [==============================] - 0s 45ms/step - loss: 0.0812 - accuracy: 0.9629 - val_loss: 0.1293 - val_accuracy: 0.9730\n",
            "Epoch 83/100\n",
            "2/2 [==============================] - 0s 46ms/step - loss: 0.0971 - accuracy: 0.9436 - val_loss: 0.1310 - val_accuracy: 0.9459\n",
            "Epoch 84/100\n",
            "2/2 [==============================] - 0s 51ms/step - loss: 0.0927 - accuracy: 0.9436 - val_loss: 0.1136 - val_accuracy: 0.9730\n",
            "Epoch 85/100\n",
            "2/2 [==============================] - 0s 40ms/step - loss: 0.0774 - accuracy: 0.9629 - val_loss: 0.0927 - val_accuracy: 0.9459\n",
            "Epoch 86/100\n",
            "2/2 [==============================] - 0s 39ms/step - loss: 0.0813 - accuracy: 0.9770 - val_loss: 0.0860 - val_accuracy: 0.9459\n",
            "Epoch 87/100\n",
            "2/2 [==============================] - 0s 44ms/step - loss: 0.0874 - accuracy: 0.9577 - val_loss: 0.0857 - val_accuracy: 0.9730\n",
            "Epoch 88/100\n",
            "2/2 [==============================] - 0s 43ms/step - loss: 0.0937 - accuracy: 0.9577 - val_loss: 0.0859 - val_accuracy: 0.9730\n",
            "Epoch 89/100\n",
            "2/2 [==============================] - 0s 49ms/step - loss: 0.0954 - accuracy: 0.9577 - val_loss: 0.0846 - val_accuracy: 0.9730\n",
            "Epoch 90/100\n",
            "2/2 [==============================] - 0s 40ms/step - loss: 0.0867 - accuracy: 0.9629 - val_loss: 0.0839 - val_accuracy: 0.9459\n",
            "Epoch 91/100\n",
            "2/2 [==============================] - 0s 44ms/step - loss: 0.0846 - accuracy: 0.9577 - val_loss: 0.0873 - val_accuracy: 0.9459\n",
            "Epoch 92/100\n",
            "2/2 [==============================] - 0s 50ms/step - loss: 0.0790 - accuracy: 0.9577 - val_loss: 0.0884 - val_accuracy: 0.9459\n",
            "Epoch 93/100\n",
            "2/2 [==============================] - 0s 50ms/step - loss: 0.0745 - accuracy: 0.9629 - val_loss: 0.0875 - val_accuracy: 0.9459\n",
            "Epoch 94/100\n",
            "2/2 [==============================] - 0s 44ms/step - loss: 0.0676 - accuracy: 0.9681 - val_loss: 0.0917 - val_accuracy: 0.9459\n",
            "Epoch 95/100\n",
            "2/2 [==============================] - 0s 40ms/step - loss: 0.0778 - accuracy: 0.9718 - val_loss: 0.0980 - val_accuracy: 0.9730\n",
            "Epoch 96/100\n",
            "2/2 [==============================] - 0s 43ms/step - loss: 0.0816 - accuracy: 0.9859 - val_loss: 0.0968 - val_accuracy: 0.9730\n",
            "Epoch 97/100\n",
            "2/2 [==============================] - 0s 45ms/step - loss: 0.0758 - accuracy: 0.9859 - val_loss: 0.0886 - val_accuracy: 0.9459\n",
            "Epoch 98/100\n",
            "2/2 [==============================] - 0s 46ms/step - loss: 0.0753 - accuracy: 0.9629 - val_loss: 0.0826 - val_accuracy: 0.9459\n",
            "Epoch 99/100\n",
            "2/2 [==============================] - 0s 42ms/step - loss: 0.0754 - accuracy: 0.9629 - val_loss: 0.0817 - val_accuracy: 0.9459\n",
            "Epoch 100/100\n",
            "2/2 [==============================] - 0s 43ms/step - loss: 0.0754 - accuracy: 0.9629 - val_loss: 0.0835 - val_accuracy: 0.9459\n"
          ],
          "name": "stdout"
        }
      ]
    },
    {
      "cell_type": "markdown",
      "metadata": {
        "id": "3Ooc-nHwogNX"
      },
      "source": [
        "The validation loss and training loss are decreasing\n",
        "The accuracy of both training and validation sets are increasing"
      ]
    },
    {
      "cell_type": "markdown",
      "metadata": {
        "id": "1W6TyKAKoxu_"
      },
      "source": [
        "##MODEL EVALUATION"
      ]
    },
    {
      "cell_type": "code",
      "metadata": {
        "id": "nzjbtvNQZ86n",
        "colab": {
          "base_uri": "https://localhost:8080/",
          "height": 1000
        },
        "outputId": "9c2067b6-0d02-465e-8b20-df550b1bd486"
      },
      "source": [
        "W = model.get_weights()\n",
        "for ii in range(len(W)//2):\n",
        "    print(\"Layer %d\" %ii)\n",
        "    print('Bias:\\n', W[2*ii + 1])\n",
        "    print('W:\\n', W[2*ii])\n",
        "    print()\n",
        "\n",
        "plt.plot(history.history['loss'], label = \"Train loss\")\n",
        "plt.plot(history.history['val_loss'], label = \"Val loss\")\n",
        "plt.xlabel(\"Epoch (iteration)\")\n",
        "plt.ylabel(\"Loss\")\n",
        "plt.legend()\n",
        "plt.grid()\n",
        "plt.show()\n",
        "\n",
        "\n",
        "plt.plot(history.history['accuracy'], label = \"Train accuarcy\")\n",
        "plt.plot(history.history['val_accuracy'], label = \"Val accuarcy\")\n",
        "plt.xlabel(\"Epoch (iteration)\")\n",
        "plt.ylabel(\"Loss\")\n",
        "plt.legend()\n",
        "plt.grid()\n",
        "plt.show()"
      ],
      "execution_count": 81,
      "outputs": [
        {
          "output_type": "stream",
          "text": [
            "Layer 0\n",
            "Bias:\n",
            " [ 0.18043059  0.22761948 -0.10304132  0.12070237  0.19484603  0.24604513\n",
            "  0.         -0.08336764 -0.00414739  0.186246    0.18289042 -0.03609409\n",
            "  0.17559665 -0.0239585   0.          0.15110669  0.05617342 -0.01504605\n",
            "  0.1662776  -0.11693136]\n",
            "W:\n",
            " [[-0.28913513  0.09934469  0.17861968 -0.51872754  0.25679228 -0.12540196\n",
            "  -0.40005934  0.50230485  0.02397138  0.30493373 -0.24613711 -0.28527626\n",
            "  -0.14145948 -0.28410873 -0.08979571 -0.28097746 -0.4402156  -0.05148986\n",
            "  -0.39239427 -0.13376601]\n",
            " [ 0.4454043   0.41947198  0.14232889  0.5116105   0.08332233  0.1307456\n",
            "  -0.4607345   0.2009245  -0.20124467  0.17171258  0.20774269  0.18363614\n",
            "   0.41338053 -0.03782277 -0.2339195   0.536769    0.3305136  -0.11918322\n",
            "   0.54269284  0.0267209 ]\n",
            " [-0.0871295   0.271346    0.35237566  0.05518993  0.1665507  -0.3283465\n",
            "  -0.49997914  0.5278964   0.55025613  0.15382117 -0.12994345  0.20261326\n",
            "  -0.05233454  0.40251195  0.20413363  0.26430058 -0.11876926  0.11023407\n",
            "   0.09481361  0.59365714]\n",
            " [-0.21500978  0.48055315  0.09377483 -0.11707589 -0.45552614  0.16634771\n",
            "  -0.26364803  0.44032443  0.18797928 -0.51260674  0.03092299  0.4933645\n",
            "  -0.2460532  -0.30169186 -0.34846497  0.10017015  0.08221057  0.23376928\n",
            "   0.15263444  0.5235626 ]]\n",
            "\n",
            "Layer 1\n",
            "Bias:\n",
            " [ 0.1430827   0.16285273 -0.02488732  0.16257727  0.07322428 -0.06643628\n",
            " -0.07852111  0.          0.12101202  0.         -0.02513384  0.14811094\n",
            " -0.07589203 -0.03329977 -0.09463922  0.02941345  0.17860027 -0.0126258\n",
            " -0.08447282 -0.11242915  0.12816507  0.         -0.16455692  0.01877435\n",
            "  0.          0.1648081   0.03757039  0.2049343   0.          0.09683944\n",
            " -0.10796081  0.03002354  0.10535453  0.1865077  -0.05619978  0.\n",
            "  0.20513447 -0.03102671 -0.00472287  0.13248622 -0.05642324  0.19111592\n",
            "  0.18772614  0.15982662 -0.05107699  0.         -0.01959222  0.15510058\n",
            " -0.0342669   0.09633248]\n",
            "W:\n",
            " [[-4.44929510e-01  1.79754719e-01  4.59680101e-03  2.88960487e-01\n",
            "  -1.87091082e-01 -6.40115142e-02 -9.68492404e-02 -1.65652335e-02\n",
            "   1.82979047e-01 -2.05613077e-02 -3.69282991e-01 -9.13787559e-02\n",
            "  -3.08428109e-01  4.03384343e-02  5.54881468e-02 -4.04893905e-01\n",
            "   3.38258386e-01  1.10102110e-01  1.09399237e-01 -3.25343668e-01\n",
            "  -3.28842998e-01  9.49233770e-04  5.52690364e-02 -2.27824241e-01\n",
            "  -2.02445567e-01  4.21484672e-02  4.21308696e-01  4.15021062e-01\n",
            "   1.57719851e-02  4.03342485e-01 -4.19579335e-02 -3.96191657e-01\n",
            "   4.33685452e-01 -1.34868339e-01 -8.25120229e-03 -1.17784902e-01\n",
            "   3.10624480e-01 -3.88892800e-01  1.25679269e-01  2.00431049e-01\n",
            "   3.86777334e-02  5.58324397e-01  4.27755147e-01  1.16596110e-01\n",
            "  -4.08280134e-01  8.94794464e-02  4.08425257e-02  3.90355200e-01\n",
            "  -3.91003639e-02  9.31667164e-02]\n",
            " [ 2.24774420e-01  8.15057680e-02 -2.21325569e-02  1.45573109e-01\n",
            "   6.09843768e-02  2.93879751e-02  2.79165417e-01 -1.11828089e-01\n",
            "   3.19731861e-01 -1.60413221e-01  1.61819439e-02  6.45550191e-02\n",
            "  -1.09007329e-01 -1.06473841e-01 -1.01191429e-02  2.18495071e-01\n",
            "   6.07146733e-02  6.94381399e-03  3.22885275e-01 -6.10946957e-03\n",
            "   2.31402412e-01 -5.61785698e-03  1.47431776e-01  1.76232144e-01\n",
            "  -1.68318346e-01  3.20770621e-01 -1.43820733e-01  3.07525456e-01\n",
            "  -3.03471088e-03 -3.52992266e-02 -1.97002152e-03  1.07618250e-01\n",
            "  -2.24019229e-01  4.86125261e-01  3.82971555e-01 -2.40114748e-01\n",
            "   3.57036710e-01  2.00052127e-01 -2.83626109e-01  1.21516861e-01\n",
            "   2.65069246e-01  2.75429517e-01  1.84224471e-01  2.23190308e-01\n",
            "   1.08648743e-02 -1.01128519e-01  2.61547565e-01  2.55076379e-01\n",
            "  -2.31693938e-01 -2.79089779e-01]\n",
            " [-6.63211495e-02 -2.44041774e-02  5.05127050e-02  1.24441847e-01\n",
            "  -2.02227309e-01  3.45826775e-01 -1.76595971e-01  2.67053246e-02\n",
            "  -1.69404238e-01 -2.90580541e-01  2.28785291e-01 -3.20569088e-04\n",
            "   3.50015789e-01  1.66331813e-01  3.71010214e-01  3.71842086e-01\n",
            "  -8.08406100e-02  3.78411300e-02  1.93290755e-01  9.09754932e-02\n",
            "  -9.04459972e-03  4.31481898e-02 -3.26166339e-02  2.07323387e-01\n",
            "  -1.23763919e-01  3.76518145e-02 -2.90724095e-02 -7.80402333e-04\n",
            "  -2.12091625e-01  1.48118287e-01 -1.41958937e-01  3.71960402e-01\n",
            "   7.93539956e-02  1.72553390e-01  1.93246171e-01  2.32552052e-01\n",
            "  -2.97233779e-02  3.12144130e-01 -8.33174586e-03 -1.03120223e-01\n",
            "   3.94784898e-01 -2.87992865e-01 -1.03002518e-01  4.63188253e-02\n",
            "  -5.85594922e-02 -1.25354141e-01 -4.06049192e-02 -1.09669939e-01\n",
            "   1.26611009e-01  5.33341505e-02]\n",
            " [-6.62621781e-02  3.65403205e-01  2.37025976e-01  3.01514059e-01\n",
            "  -7.12600797e-02 -3.13648164e-01 -2.81052202e-01  2.88203359e-03\n",
            "   3.22840124e-01  4.34909165e-02 -2.25010753e-01  8.96156877e-02\n",
            "  -1.68460943e-02 -6.69497997e-02  1.01529462e-02 -3.00745398e-01\n",
            "   3.53464603e-01 -2.41155699e-01 -1.44396350e-01  2.33089656e-01\n",
            "  -4.01218176e-01  5.28558791e-02 -2.36927509e-01  5.25450073e-02\n",
            "   2.16755211e-01  2.31936768e-01 -2.11601987e-01  4.12928641e-01\n",
            "  -2.20541269e-01  3.48827928e-01  1.59338072e-01  1.43246010e-01\n",
            "   1.73022106e-01  3.06509554e-01 -4.53292914e-02  1.13518059e-01\n",
            "   1.74133062e-01 -9.35824737e-02 -2.82338768e-01  3.90798450e-01\n",
            "  -1.14203997e-01 -3.47677991e-02  1.05003774e-01  1.69127569e-01\n",
            "  -1.76706120e-01 -2.78178155e-01  1.00170821e-01 -1.13493510e-01\n",
            "   1.63294271e-01  2.60021538e-01]\n",
            " [ 1.16017647e-01  5.02143390e-02 -9.04076099e-02  5.52193165e-01\n",
            "  -6.44772872e-02 -5.26607521e-02 -3.64965916e-01 -4.54400778e-02\n",
            "   1.20889433e-01 -2.50115246e-01 -4.15401608e-01  2.48868555e-01\n",
            "   6.90981895e-02  3.90243088e-03 -2.95744210e-01 -3.13680232e-01\n",
            "   4.06830460e-01 -3.39508474e-01 -1.76926449e-01 -2.29675800e-01\n",
            "   3.22051346e-01 -9.10191238e-02 -1.21686146e-01 -3.52228194e-01\n",
            "  -9.08386111e-02  2.73428321e-01  1.12756386e-01  1.54263347e-01\n",
            "   6.33840263e-02  6.79307282e-02 -4.88136083e-01  5.60140125e-02\n",
            "   4.28924710e-01 -3.66736613e-02 -4.15508211e-01 -2.46529534e-01\n",
            "   5.68365872e-01 -2.13158596e-02  2.64380068e-01  1.64979339e-01\n",
            "  -1.34539932e-01  4.67301875e-01  2.83945560e-01  2.47356609e-01\n",
            "  -1.94409154e-02  1.48532689e-02 -1.84202254e-01  3.36269438e-01\n",
            "   2.48819888e-01  4.05285001e-01]\n",
            " [ 6.14064932e-02  3.29979539e-01 -1.02487013e-01  5.13521023e-02\n",
            "   2.33366758e-01 -3.25866878e-01  4.86239903e-02  9.96426344e-02\n",
            "   3.56209338e-01 -5.93712628e-02 -2.42081627e-01  3.75059247e-02\n",
            "  -3.10688555e-01  1.32996276e-01  5.35397902e-02 -2.91639924e-01\n",
            "   1.06543433e-02 -3.51978779e-01 -8.17936882e-02 -2.88782984e-01\n",
            "  -1.27857432e-01 -1.44456178e-01 -4.52084959e-01 -1.07291803e-01\n",
            "  -1.02256790e-01  2.61595994e-01  3.30352068e-01  3.05531830e-01\n",
            "   1.84214592e-01  2.04509735e-01 -3.36880803e-01 -2.29337555e-03\n",
            "   5.04251838e-01  1.60181120e-01 -1.17058091e-01 -1.62768200e-01\n",
            "   3.84738535e-01  7.87391141e-02 -4.36783722e-03  5.41758180e-01\n",
            "   6.25779852e-02  1.98253602e-01  2.01745138e-01  3.99998486e-01\n",
            "   6.15754426e-02 -1.94944739e-01  2.32128471e-01  1.73834324e-01\n",
            "  -2.26075500e-01 -4.71123345e-02]\n",
            " [ 2.04295248e-01  2.40268171e-01 -2.45851412e-01  1.26901805e-01\n",
            "  -1.78554356e-01  1.01210326e-01  1.55753464e-01 -2.18392149e-01\n",
            "  -2.50115961e-01  2.82042623e-01 -1.99531764e-01 -2.73121893e-02\n",
            "   6.77344799e-02  5.22154570e-02  1.26959383e-01 -1.11069828e-01\n",
            "  -1.21532008e-01  1.03810519e-01  7.80119002e-02  1.55107975e-02\n",
            "  -1.86378658e-01 -1.58351764e-01  2.55415082e-01  2.59573460e-01\n",
            "  -9.64060724e-02  3.98853421e-03  2.52847970e-02  9.01120603e-02\n",
            "  -1.50397152e-01  7.50197768e-02  2.35761344e-01  1.49843842e-01\n",
            "  -6.31116629e-02  1.38020247e-01  5.24974465e-02 -2.05791593e-01\n",
            "   1.65378153e-01 -2.50762403e-01 -1.66097820e-01  1.20488763e-01\n",
            "   7.42009282e-02  2.55049169e-01  1.97891563e-01  2.64932811e-02\n",
            "   5.05797267e-02 -1.23991549e-01  2.15973794e-01 -8.56173038e-02\n",
            "  -8.65945965e-02  3.84423733e-02]\n",
            " [ 2.64046580e-01 -1.42995715e-01  2.92789098e-02 -2.46623605e-01\n",
            "  -1.08053453e-01  2.69242585e-01 -1.36344716e-01 -2.20424086e-01\n",
            "  -2.74086986e-02 -1.63936540e-01  3.69558692e-01 -1.47653490e-01\n",
            "   2.38929242e-01  1.49544984e-01  3.51060688e-01  3.92202616e-01\n",
            "   1.75503150e-01  3.93901825e-01  1.23842083e-01  1.47507563e-01\n",
            "   3.64548177e-01 -2.20805407e-02  1.99120805e-01  3.86911035e-01\n",
            "  -1.97995916e-01  6.75011873e-02  1.63480088e-01 -1.36720851e-01\n",
            "   2.18459964e-03 -1.50559083e-01  3.04067433e-01  2.15900451e-01\n",
            "   2.76962202e-02  4.09339696e-01  7.40373954e-02  1.63104087e-01\n",
            "   2.73230970e-01  5.58222793e-02 -1.60246745e-01 -1.39126420e-01\n",
            "  -8.10144544e-02 -1.85018331e-01 -1.78547904e-01 -2.93601632e-01\n",
            "   1.01011530e-01 -2.31342018e-02 -2.62549639e-01  2.49632686e-01\n",
            "  -2.72615075e-01  2.72611052e-01]\n",
            " [ 4.71197635e-01 -6.11373186e-02  2.28502631e-01 -6.75408542e-02\n",
            "   4.52038050e-02  2.87904590e-01  8.63047317e-03 -6.78091049e-02\n",
            "   1.13268875e-01  2.57603884e-01  2.61539400e-01  3.29428643e-01\n",
            "   3.48902822e-01  1.49268255e-01  8.74293447e-02  3.32299173e-01\n",
            "  -1.08019225e-01  3.08951158e-02  2.09166542e-01  2.55569696e-01\n",
            "   2.88735449e-01 -2.23341092e-01  1.32880762e-01  1.97394583e-02\n",
            "   1.41087323e-01  1.08649611e-01 -6.14627125e-03 -3.17436039e-01\n",
            "  -1.94416478e-01 -8.16076398e-02  2.70427048e-01  3.01229835e-01\n",
            "  -6.57943413e-02  1.38876259e-01 -1.36401191e-01 -2.65824378e-01\n",
            "  -2.63286531e-02  2.77077049e-01 -1.44274130e-01 -2.52002865e-01\n",
            "   9.79771689e-02  8.90401155e-02 -3.04541200e-01 -1.69853076e-01\n",
            "   3.13568950e-01 -1.87328458e-01 -1.07482538e-01 -6.35875463e-02\n",
            "  -1.56620547e-01 -1.72078490e-01]\n",
            " [ 1.75668970e-01  1.70359313e-02 -2.90976226e-01  3.09327990e-01\n",
            "   2.89891541e-01 -2.42575184e-01  5.45652956e-02 -1.98527575e-02\n",
            "  -5.20184338e-02  2.04300195e-01 -3.00741285e-01 -1.40832633e-01\n",
            "  -3.08214515e-01  1.16514198e-01 -3.34488861e-02 -3.97057027e-01\n",
            "   2.81695545e-01 -2.67489552e-01  9.63908806e-02 -6.42326400e-02\n",
            "  -2.98429672e-02 -1.09527066e-01  1.42592983e-02 -3.69368233e-02\n",
            "  -1.08283132e-01  2.85209388e-01  1.66921318e-01  1.60778835e-01\n",
            "   2.91155994e-01  3.16892087e-01 -1.68565646e-01 -3.01496744e-01\n",
            "   3.41749042e-01 -1.20623723e-01 -9.57185030e-02 -1.98650658e-01\n",
            "   2.20536754e-01 -6.18233755e-02  2.58742273e-02  4.53448802e-01\n",
            "  -5.98578006e-02  3.20450217e-01  5.21494210e-01  1.31416515e-01\n",
            "  -4.57014114e-01 -5.47255278e-02 -2.96882875e-02  4.31908667e-01\n",
            "   1.02352127e-01 -2.33282689e-02]\n",
            " [-7.47957304e-02  4.03750777e-01  2.34772965e-01  2.51118779e-01\n",
            "  -1.41408250e-01  1.00521438e-01 -2.55157143e-01 -1.20507523e-01\n",
            "   2.43646532e-01 -1.25797033e-01 -1.22132346e-01 -2.04817191e-01\n",
            "   1.33393571e-01  1.81546122e-01 -4.40283399e-03  1.42612517e-01\n",
            "   1.26683742e-01  3.92711610e-02 -2.52483875e-01  1.35784134e-01\n",
            "  -1.43639550e-01 -2.07164943e-01 -3.55416358e-01  7.97386318e-02\n",
            "   5.36606908e-02  4.40316290e-01  3.49947512e-02  4.00451332e-01\n",
            "  -2.64934391e-01 -5.12953624e-02 -2.42970482e-01  2.81616505e-02\n",
            "   4.51112449e-01  1.61833927e-01  5.31382393e-03 -2.47137859e-01\n",
            "   2.68091530e-01 -2.16073573e-01  2.07125768e-01  3.36621881e-01\n",
            "   5.25072552e-02  4.43504974e-02  4.38530624e-01  3.80057275e-01\n",
            "   1.24904953e-01  8.50045681e-02  2.23923028e-01  3.61312121e-01\n",
            "  -1.70044050e-01  1.34857893e-01]\n",
            " [ 2.17021465e-01 -2.26293057e-02  4.44337949e-02 -5.09972032e-03\n",
            "   1.87741801e-01  7.47082233e-02  3.30635786e-01 -2.61986017e-01\n",
            "   2.55155921e-01  1.52606517e-01  2.45812312e-01  2.57065713e-01\n",
            "  -4.57434775e-03 -2.82202154e-01 -2.82774363e-02  1.93092450e-01\n",
            "  -5.50008975e-02  4.50819254e-01  4.18742061e-01  3.27081531e-01\n",
            "  -3.62917930e-02 -2.89964199e-01  1.47754565e-01  2.76572704e-01\n",
            "   4.86013889e-02 -8.10431913e-02 -2.86226392e-01 -2.78646320e-01\n",
            "   1.04892939e-01  1.69516187e-02  3.58336568e-01  3.14716250e-01\n",
            "   8.81213173e-02  2.27538705e-01  3.36993188e-01 -2.60646105e-01\n",
            "   2.53296345e-01  4.90405053e-01 -2.29703516e-01 -2.18737274e-01\n",
            "   3.32552165e-01 -4.09407258e-01  1.09998316e-01 -1.54751604e-02\n",
            "  -2.59431638e-02  2.36329734e-01  1.84037969e-01 -1.97276205e-01\n",
            "  -8.13400894e-02 -9.69384462e-02]\n",
            " [-2.20118672e-01  4.68544751e-01 -6.65422752e-02  4.77925092e-01\n",
            "  -1.84046164e-01 -2.83357054e-01 -3.97693872e-01  2.08671749e-01\n",
            "   3.11332315e-01 -1.47381082e-01 -1.13423958e-01  6.71331305e-03\n",
            "  -3.93810600e-01  2.08604217e-01  1.19865835e-01 -3.37296009e-01\n",
            "   3.90330762e-01 -1.58440217e-01 -4.09735471e-01 -2.89663225e-01\n",
            "  -2.00358212e-01 -2.32647628e-01 -1.78587452e-01  1.16388761e-01\n",
            "   9.63172913e-02  2.15469807e-01  2.61796296e-01  3.13318640e-01\n",
            "  -4.22956347e-02  9.49969664e-02 -2.13577032e-01  1.78424157e-02\n",
            "   9.48547050e-02  1.94050223e-01 -1.38135031e-01 -6.33577108e-02\n",
            "   3.49754572e-01 -1.03806823e-01  1.57862976e-01  3.71031135e-01\n",
            "  -3.47529113e-01  1.00892102e-02  2.51863390e-01  2.37270504e-01\n",
            "  -3.80979985e-01 -1.82984054e-01 -3.04826647e-01  1.98611274e-01\n",
            "   9.33318734e-02  4.50300217e-01]\n",
            " [-2.21384361e-01 -9.98198539e-02  8.47759321e-02  7.39464983e-02\n",
            "   1.12789184e-01 -2.23015025e-01 -1.98175892e-01  9.32595134e-03\n",
            "  -3.92383002e-02  1.41223252e-01  1.98268771e-01 -1.55741036e-01\n",
            "   1.57276362e-01  1.72900945e-01  2.77299911e-01 -5.58118001e-02\n",
            "  -1.61827758e-01 -1.19639054e-01 -1.88610137e-01  7.15104640e-02\n",
            "  -2.31802464e-01  4.79039252e-02 -1.72708377e-01  1.34198427e-01\n",
            "   2.81038702e-01  1.92273125e-01  2.06415523e-02 -1.35416565e-02\n",
            "   1.71848774e-01  1.71531692e-01 -4.22284715e-02  2.89756078e-02\n",
            "  -2.32651159e-01 -2.31242612e-01 -9.45650339e-02 -8.41682106e-02\n",
            "   4.79902700e-02  2.19886690e-01 -9.44237113e-02  8.24350268e-02\n",
            "   2.86973029e-01  3.00975256e-02  1.92754745e-01 -2.88782895e-01\n",
            "  -2.43054017e-01  1.06642872e-01  4.99565899e-02 -1.51417330e-01\n",
            "   1.96970016e-01  2.92474359e-01]\n",
            " [ 1.64856672e-01 -9.43637490e-02 -2.14637816e-02  2.07976699e-02\n",
            "   2.83467412e-01  1.97583467e-01  9.50386524e-02  2.90396154e-01\n",
            "  -3.64191532e-02 -1.84075415e-01 -1.99487999e-01 -5.78617901e-02\n",
            "   1.61434829e-01 -1.37145981e-01  1.66852772e-02 -1.54726207e-02\n",
            "   2.90989161e-01  2.58361340e-01 -2.19499901e-01  1.42641187e-01\n",
            "   3.38390172e-02  1.35168642e-01 -1.01910934e-01  1.48641467e-02\n",
            "   2.60016799e-01  2.90469944e-01  9.85129774e-02 -1.69522285e-01\n",
            "  -2.54945129e-01  9.33375061e-02 -3.01841795e-02  6.19790554e-02\n",
            "  -8.73192847e-02 -2.42008537e-01 -7.94674754e-02  1.11880302e-01\n",
            "   1.06971830e-01 -7.09271580e-02 -5.09862453e-02  1.00670546e-01\n",
            "   1.91284895e-01  6.40486777e-02 -2.04201296e-01  2.90590405e-01\n",
            "  -1.34942815e-01  1.16007030e-02  2.64579058e-01  7.90157914e-03\n",
            "  -2.54028499e-01  2.87718356e-01]\n",
            " [ 1.07137509e-01  2.72997171e-01 -2.08518684e-01 -2.16994897e-01\n",
            "  -8.98939297e-02  2.70856082e-01  2.21786574e-02 -1.29860476e-01\n",
            "   5.17263971e-02 -1.62801221e-01 -1.64475173e-01 -2.06772596e-01\n",
            "  -1.56301543e-01 -1.43574208e-01 -5.31906672e-02  4.58304659e-02\n",
            "  -1.03233092e-01 -1.45910785e-01 -1.84531003e-01 -6.05963543e-02\n",
            "   1.59165829e-01 -1.25461221e-02  1.79440066e-01  5.06166369e-02\n",
            "  -1.57183111e-02  9.23888236e-02  2.69000810e-02  1.81184128e-01\n",
            "   7.68181682e-03  1.91110909e-01  9.93474498e-02  1.13968812e-01\n",
            "   3.07435123e-03  4.35118496e-01 -1.48705006e-01 -1.37503564e-01\n",
            "  -2.99610402e-02 -7.42665678e-02 -1.23238929e-01  2.01520845e-01\n",
            "  -2.24665273e-02  1.93223268e-01  2.81343937e-01  1.48534730e-01\n",
            "   2.64288515e-01 -2.21280485e-01 -2.09643230e-01  3.43092501e-01\n",
            "  -4.01072800e-02  7.40306303e-02]\n",
            " [-2.57310748e-01 -3.66587341e-02  5.84064610e-02 -1.45673841e-01\n",
            "  -1.84052914e-01 -2.91936278e-01 -2.68368900e-01 -2.41472751e-01\n",
            "  -1.30062357e-01 -8.54012668e-02  3.03155422e-01 -2.39836082e-01\n",
            "   2.80815601e-01 -1.59367934e-01 -3.02763104e-01 -1.96568504e-01\n",
            "  -1.37574241e-01  7.63806626e-02  1.33424848e-01 -9.54850093e-02\n",
            "  -3.27240199e-01  1.87113464e-01 -1.29425302e-01 -3.08436275e-01\n",
            "  -1.40208393e-01  3.91217858e-01 -4.00973484e-02  3.48103642e-01\n",
            "  -1.77458480e-01  7.96127878e-03  2.64524370e-01 -2.96656549e-01\n",
            "   1.13954596e-01  9.64915678e-02  2.32485056e-01 -2.31919810e-01\n",
            "  -4.59235013e-02  2.42629364e-01  2.62229234e-01  3.44068795e-01\n",
            "  -2.29814261e-01  2.04844058e-01  1.91863552e-01  8.96471143e-02\n",
            "   4.65942994e-02  1.19521707e-01 -3.01736891e-01 -2.04857066e-01\n",
            "  -7.08895177e-02  2.74856716e-01]\n",
            " [ 9.57910717e-03 -3.94503713e-01 -2.38099083e-01 -3.12765092e-01\n",
            "   1.95775822e-01 -8.39767419e-03 -1.86632335e-01 -1.13701150e-01\n",
            "   1.04966886e-01 -7.73279816e-02  4.85344380e-02  3.60867918e-01\n",
            "   2.23944262e-01 -1.40514940e-01  1.09979168e-01  7.23111108e-02\n",
            "   2.15368569e-01  3.96497279e-01  1.50480345e-01 -3.05327158e-02\n",
            "   2.85268158e-01 -7.83525407e-02  2.81391777e-02  4.96248417e-02\n",
            "  -2.48308986e-01  1.03677653e-01 -2.85330623e-01  1.76722288e-01\n",
            "   2.17817843e-01 -4.37463492e-01  5.54863736e-02  3.13819975e-01\n",
            "  -3.53486210e-01  5.08613884e-01  2.23804981e-01  1.71484500e-01\n",
            "   8.29363428e-03  1.01744547e-01 -2.48945385e-01  4.28760378e-03\n",
            "   2.83918440e-01 -9.83418822e-02 -3.96962970e-01 -3.27896148e-01\n",
            "  -8.73033702e-02  6.81487024e-02  1.77706275e-02  3.40928167e-01\n",
            "   9.87402499e-02  9.58137512e-02]\n",
            " [ 1.73156783e-01  3.27969283e-01  1.56155869e-01  1.37390122e-01\n",
            "   9.40078497e-02 -1.55238107e-01  1.21683434e-01 -2.68055707e-01\n",
            "   7.85322711e-02 -2.22599104e-01  1.79226026e-01 -3.01029027e-01\n",
            "   2.39819750e-01 -2.46374384e-01  1.08895652e-01  4.18016165e-01\n",
            "  -4.18001413e-02  3.70309085e-01  1.13947824e-01  5.92043921e-02\n",
            "   2.42245182e-01 -1.90795302e-01 -5.95417246e-02  1.05342321e-01\n",
            "   4.26384509e-02 -8.54368210e-02 -1.25384226e-01 -1.07982166e-01\n",
            "  -2.79132158e-01  2.96948045e-01 -1.57831550e-01  4.29212712e-02\n",
            "   2.66074479e-01  2.78400093e-01 -8.60645697e-02 -6.08431697e-02\n",
            "   3.29371661e-01 -8.48949626e-02 -3.25667374e-02  2.39181355e-01\n",
            "   2.55200177e-01  1.87647417e-01  1.69662416e-01  2.01483741e-02\n",
            "   2.59294540e-01 -6.13287091e-02 -1.65192410e-01  1.20412916e-01\n",
            "   2.52962351e-01  4.66653667e-02]\n",
            " [ 2.30013102e-01 -3.33620578e-01 -3.08727175e-01 -6.21721661e-03\n",
            "  -6.39813244e-02  2.07624435e-01  4.08620745e-01 -2.45532483e-01\n",
            "   1.87663361e-04 -2.12715298e-01  2.28535876e-01 -1.42839357e-01\n",
            "   2.49464080e-01 -2.72886395e-01  5.22098802e-02  1.77072868e-01\n",
            "  -3.98730636e-01  7.63322860e-02  1.26559153e-01 -1.16442926e-01\n",
            "  -1.60654902e-01 -1.01287603e-01  2.42081881e-01  1.52970642e-01\n",
            "   1.36351913e-01 -2.57263720e-01  1.68860883e-01 -2.35968783e-01\n",
            "  -2.33255684e-01 -1.69164881e-01 -9.80921611e-02  4.56073254e-01\n",
            "   1.75109878e-01  3.56114149e-01  3.37173432e-01 -2.17982262e-01\n",
            "  -1.03035651e-01  3.13687563e-01  2.66549766e-01  5.47044799e-02\n",
            "   2.98733264e-01 -2.07423270e-01 -2.22003832e-01 -8.64570215e-02\n",
            "   1.77076310e-01 -2.82366216e-01 -2.97741175e-01  2.15378165e-01\n",
            "  -1.80012807e-01 -9.67716724e-02]]\n",
            "\n",
            "Layer 2\n",
            "Bias:\n",
            " [ 0.         -0.0154296  -0.07960846 -0.13252707  0.16869326 -0.02195711\n",
            "  0.19690005 -0.01124118 -0.01252227  0.         -0.09497602  0.\n",
            "  0.14056575  0.05604653 -0.07196222  0.1585305   0.09820461  0.00933517\n",
            "  0.         -0.01054407 -0.00518146 -0.00600465 -0.07763737  0.13574506\n",
            "  0.0309367   0.13285235 -0.00316671  0.         -0.01559198  0.\n",
            "  0.0034567  -0.10022934  0.02250854 -0.01233922 -0.00668701  0.08290068\n",
            "  0.          0.05042497 -0.00837878 -0.01547521 -0.01507652  0.\n",
            "  0.          0.14289424 -0.0217049   0.05372275 -0.00215979  0.\n",
            " -0.01916155  0.139025  ]\n",
            "W:\n",
            " [[ 0.18959428 -0.17749633 -0.14437777 ...  0.13672431 -0.13521609\n",
            "  -0.01533404]\n",
            " [-0.10244298  0.0830958   0.01737299 ...  0.06822111  0.09349439\n",
            "   0.3385448 ]\n",
            " [-0.08682659 -0.14676152 -0.14326267 ... -0.18222573  0.11393929\n",
            "  -0.15053406]\n",
            " ...\n",
            " [-0.04433973 -0.10990892  0.10892916 ... -0.11158206 -0.08009247\n",
            "   0.24837376]\n",
            " [ 0.01015775  0.05390468  0.13956259 ...  0.12026094  0.17750838\n",
            "   0.12228592]\n",
            " [ 0.14448832  0.13267986  0.09341255 ...  0.12143572 -0.19004044\n",
            "   0.33027393]]\n",
            "\n",
            "Layer 3\n",
            "Bias:\n",
            " [-0.04863342  0.09775732 -0.12759806]\n",
            "W:\n",
            " [[-0.16464417  0.22555444 -0.18816072]\n",
            " [-0.19585839 -0.15463382 -0.26232126]\n",
            " [-0.44073117 -0.00918323  0.39204553]\n",
            " [-0.08103078 -0.36049598  0.39789927]\n",
            " [ 0.38575986  0.33489826 -0.52042484]\n",
            " [ 0.00239314 -0.14241517  0.14596231]\n",
            " [ 0.14215012  0.18048564 -0.38560787]\n",
            " [-0.49550584 -0.13171035  0.04959367]\n",
            " [ 0.26826265 -0.26531008 -0.13199075]\n",
            " [-0.10688137  0.23647282  0.00846633]\n",
            " [-0.5230862  -0.18705316  0.11239453]\n",
            " [-0.2070062   0.30315307 -0.22916344]\n",
            " [ 0.15676178  0.08939733 -0.39193702]\n",
            " [ 0.56214    -0.28572142  0.11890285]\n",
            " [-0.05232351  0.18167791  0.439248  ]\n",
            " [ 0.20929053  0.2852226  -0.33713126]\n",
            " [-0.54354125  0.33545512  0.20110321]\n",
            " [-0.06148504 -0.19060645 -0.12073928]\n",
            " [ 0.0480538   0.02727154 -0.12643509]\n",
            " [-0.10556482  0.272997   -0.33252835]\n",
            " [ 0.32890663 -0.1731465  -0.11851853]\n",
            " [ 0.25361365 -0.18430223  0.10302259]\n",
            " [-0.46004432 -0.19280261 -0.07723322]\n",
            " [ 0.2144838   0.06725858 -0.4860478 ]\n",
            " [ 0.42085874 -0.52571857 -0.11468055]\n",
            " [ 0.1565802   0.4197404  -0.4333496 ]\n",
            " [-0.3937098   0.06225371  0.26566592]\n",
            " [ 0.26060435  0.02440417  0.1399233 ]\n",
            " [ 0.30119017 -0.15387954 -0.04998968]\n",
            " [ 0.12171322  0.31584314 -0.17299995]\n",
            " [-0.16265002  0.22066933  0.29259443]\n",
            " [ 0.05289377  0.23647347  0.3091112 ]\n",
            " [ 0.33976895 -0.23555164 -0.02235863]\n",
            " [-0.3221421  -0.18831697  0.23741095]\n",
            " [-0.24645521 -0.06195788 -0.06419316]\n",
            " [-0.41365004  0.18228467  0.27134252]\n",
            " [ 0.13600674  0.21235397  0.29709283]\n",
            " [ 0.22119361 -0.5370135  -0.05908515]\n",
            " [-0.07076483 -0.13589568 -0.15851702]\n",
            " [ 0.09841838 -0.01426956 -0.24087709]\n",
            " [ 0.02311248 -0.39096856 -0.20438181]\n",
            " [-0.06515178  0.13553402 -0.05306911]\n",
            " [ 0.3023183  -0.24296802  0.14364448]\n",
            " [ 0.12065458  0.35960656 -0.5928719 ]\n",
            " [-0.29680973 -0.01778173 -0.14890532]\n",
            " [ 0.36203328 -0.3916379  -0.21678154]\n",
            " [-0.0987801  -0.20906472 -0.1516797 ]\n",
            " [-0.2311053  -0.1011944   0.12051588]\n",
            " [-0.15153454 -0.32407847  0.04715569]\n",
            " [ 0.3957707   0.10498144 -0.32281324]]\n",
            "\n"
          ],
          "name": "stdout"
        },
        {
          "output_type": "display_data",
          "data": {
            "image/png": "[encoded data removed]",
            "text/plain": [
              "<Figure size 432x288 with 1 Axes>"
            ]
          },
          "metadata": {
            "tags": [],
            "needs_background": "light"
          }
        },
        {
          "output_type": "display_data",
          "data": {
            "image/png": "[encoded data removed]",
            "text/plain": [
              "<Figure size 432x288 with 1 Axes>"
            ]
          },
          "metadata": {
            "tags": [],
            "needs_background": "light"
          }
        }
      ]
    },
    {
      "cell_type": "markdown",
      "metadata": {
        "id": "SDNYzKQXpdmJ"
      },
      "source": [
        "The validation and training loss and accuracy r decreasing and increasing respectively\n"
      ]
    },
    {
      "cell_type": "markdown",
      "metadata": {
        "id": "CHcb-bgR3AgF"
      },
      "source": [
        "#MODEL TESTING"
      ]
    },
    {
      "cell_type": "code",
      "metadata": {
        "colab": {
          "base_uri": "https://localhost:8080/"
        },
        "id": "JVEyphtf2zYJ",
        "outputId": "9248710b-ad31-43db-d538-e1d0343fb877"
      },
      "source": [
        "loss = model.evaluate(X_test, Y_oh_test, verbose=0) #test data needed\n",
        "print('Test loss (cross-entropy and accuracy):',loss)\n",
        "print()"
      ],
      "execution_count": 82,
      "outputs": [
        {
          "output_type": "stream",
          "text": [
            "Test loss (cross-entropy and accuracy): [0.04985526204109192, 1.0]\n",
            "\n"
          ],
          "name": "stdout"
        }
      ]
    },
    {
      "cell_type": "markdown",
      "metadata": {
        "id": "CCTnTMgp7icL"
      },
      "source": [
        "**CONCLUSIONS**\n",
        "- The accuracy of test dataset is 100%.\n",
        "- The Categorical cross-entropy is 0.05\n"
      ]
    }
  ]
}